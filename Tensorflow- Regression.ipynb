{
 "cells": [
  {
   "cell_type": "markdown",
   "metadata": {},
   "source": [
    "# Tensorflow Regression"
   ]
  },
  {
   "cell_type": "code",
   "execution_count": 1,
   "metadata": {},
   "outputs": [],
   "source": [
    "import numpy as np\n",
    "import pandas as pd\n",
    "import matplotlib.pyplot as plt\n",
    "%matplotlib inline"
   ]
  },
  {
   "cell_type": "code",
   "execution_count": 2,
   "metadata": {},
   "outputs": [],
   "source": [
    "import tensorflow as tf"
   ]
  },
  {
   "cell_type": "code",
   "execution_count": 3,
   "metadata": {},
   "outputs": [],
   "source": [
    "x_data = np.linspace(0.0, 10.0, 1000000)"
   ]
  },
  {
   "cell_type": "code",
   "execution_count": 4,
   "metadata": {},
   "outputs": [],
   "source": [
    "noise = np.random.randn(len(x_data))"
   ]
  },
  {
   "cell_type": "code",
   "execution_count": 5,
   "metadata": {},
   "outputs": [
    {
     "data": {
      "text/plain": [
       "array([ 0.59938905, -0.01890762, -0.7993285 , ..., -1.39709433,\n",
       "       -0.66132347, -0.21255759])"
      ]
     },
     "execution_count": 5,
     "metadata": {},
     "output_type": "execute_result"
    }
   ],
   "source": [
    "noise"
   ]
  },
  {
   "cell_type": "code",
   "execution_count": 6,
   "metadata": {},
   "outputs": [],
   "source": [
    "y_true = (0.5* x_data)+ 5 + noise"
   ]
  },
  {
   "cell_type": "code",
   "execution_count": 7,
   "metadata": {},
   "outputs": [],
   "source": [
    "x_df = pd.DataFrame(data= x_data, columns=['X Data'])"
   ]
  },
  {
   "cell_type": "code",
   "execution_count": 8,
   "metadata": {},
   "outputs": [],
   "source": [
    "y_df = pd.DataFrame(data= y_true, columns=['Y'])"
   ]
  },
  {
   "cell_type": "code",
   "execution_count": 9,
   "metadata": {},
   "outputs": [],
   "source": [
    "my_data = pd.concat([x_df, y_df], axis=1 )"
   ]
  },
  {
   "cell_type": "code",
   "execution_count": 10,
   "metadata": {},
   "outputs": [
    {
     "data": {
      "text/html": [
       "<div>\n",
       "<style scoped>\n",
       "    .dataframe tbody tr th:only-of-type {\n",
       "        vertical-align: middle;\n",
       "    }\n",
       "\n",
       "    .dataframe tbody tr th {\n",
       "        vertical-align: top;\n",
       "    }\n",
       "\n",
       "    .dataframe thead th {\n",
       "        text-align: right;\n",
       "    }\n",
       "</style>\n",
       "<table border=\"1\" class=\"dataframe\">\n",
       "  <thead>\n",
       "    <tr style=\"text-align: right;\">\n",
       "      <th></th>\n",
       "      <th>X Data</th>\n",
       "      <th>Y</th>\n",
       "    </tr>\n",
       "  </thead>\n",
       "  <tbody>\n",
       "    <tr>\n",
       "      <th>0</th>\n",
       "      <td>0.00000</td>\n",
       "      <td>5.599389</td>\n",
       "    </tr>\n",
       "    <tr>\n",
       "      <th>1</th>\n",
       "      <td>0.00001</td>\n",
       "      <td>4.981097</td>\n",
       "    </tr>\n",
       "    <tr>\n",
       "      <th>2</th>\n",
       "      <td>0.00002</td>\n",
       "      <td>4.200681</td>\n",
       "    </tr>\n",
       "    <tr>\n",
       "      <th>3</th>\n",
       "      <td>0.00003</td>\n",
       "      <td>5.893396</td>\n",
       "    </tr>\n",
       "    <tr>\n",
       "      <th>4</th>\n",
       "      <td>0.00004</td>\n",
       "      <td>4.495462</td>\n",
       "    </tr>\n",
       "  </tbody>\n",
       "</table>\n",
       "</div>"
      ],
      "text/plain": [
       "    X Data         Y\n",
       "0  0.00000  5.599389\n",
       "1  0.00001  4.981097\n",
       "2  0.00002  4.200681\n",
       "3  0.00003  5.893396\n",
       "4  0.00004  4.495462"
      ]
     },
     "execution_count": 10,
     "metadata": {},
     "output_type": "execute_result"
    }
   ],
   "source": [
    "my_data.head()"
   ]
  },
  {
   "cell_type": "code",
   "execution_count": 11,
   "metadata": {},
   "outputs": [
    {
     "data": {
      "text/plain": [
       "<matplotlib.axes._subplots.AxesSubplot at 0x29966d6cef0>"
      ]
     },
     "execution_count": 11,
     "metadata": {},
     "output_type": "execute_result"
    },
    {
     "data": {
      "image/png": "iVBORw0KGgoAAAANSUhEUgAAAYIAAAEKCAYAAAAfGVI8AAAABHNCSVQICAgIfAhkiAAAAAlwSFlzAAALEgAACxIB0t1+/AAAADl0RVh0U29mdHdhcmUAbWF0cGxvdGxpYiB2ZXJzaW9uIDIuMi4yLCBodHRwOi8vbWF0cGxvdGxpYi5vcmcvhp/UCwAAIABJREFUeJztnX+UnHV979+fmdmdLPlFTAKaLEvKWVCzOSboHiOm5ULQFiXE24pUAfW2StpziXJthdjriVzMqVfAy9Feop4tUkGRFoM0NLEWK+FSuDR1o5s0CVr2oia7sQS2IWTDZnZ35nP/mJndmWee3/P8mnner3M4ZGefeb7f7zM7n8/n+/n1FVUFIYSQ9JKJewKEEELihYqAEEJSDhUBIYSkHCoCQghJOVQEhBCScqgICCEk5VAREEJIyqEiIISQlENFQAghKScX9wTcsGTJEl2xYkXc0yCEkJZi3759L6vqUqfrWkIRrFixAoODg3FPgxBCWgoR+ZWb6+gaIoSQlENFQAghKYeKgBBCUg4VASGEpBwqAkIISTlUBIQQknKoCAghrhkbL2D/0VcwNl6IeyqBEeeakvI8W6KOgBASPzuHRrHlkQPoyGQwVSrhzve/BRvXLI97Wk0RxprGxgsYOTGB7kVdWDwvH+nYfuGOgBDiyNh4AVseOYAzUyWcKkzjzFQJtz5yIHZLthnCWNPOoVGsu+MJ3HDvXqy74wk8NjQa2djNQEVACHFk5MQEOjL14qIjk8HIiYmYZtQ8Qa/Ji3A/dOwkMiKBjd0soSkCEblPRI6LyMGa1z4gIodEpCQi/WGNTQgJlu5FXZgqlepemyqV0L2oK6YZNU/Qa3KrWHYOjeLGBwbx2mQxsLGbJcwdwTcBXGl47SCA3wPwVIjjEkICZvG8PO58/1swpyOD+fkc5nRkcOf732LrA086Qa/JjWKp7hoK01p3XT4X7/MMLVisqk+JyArDa88BgBi2RISQ5LNxzXKs613iKhDaKgS5pqpiudUQAK69Z3XXcAazCuOsjiy+/uG34dKLHJuEhkZis4ZEZBOATQDQ09MT82wIIUBZ2LWDAqglyDU5KRazXUMJir5lCwIZ3y+JDRar6oCq9qtq/9Kl8WlKQgipxSn3f/G8PFafd7apckmqiy2xOwJCCEkaQeT+J9HFltgdASGEJAmz9NBP7ziA4RdPeb5XddcAIBGVxWGmjz4E4FkAbxSRERH5mIj8roiMALgEwG4R+YewxieEkCAxSw+dnC7hvX/xT5aFY3Y4FZ9F2X4izKyhD1n86tGwxiSEkCCpbRdhFugFgMmi4tZHDmBd7xLXbp7a3UU1g6j2HlG3n2CMgBBCDIyNF/Dg3iPYvud5dGazM8L4zve/BZ/+7gFMFusVQrVwzK0iMEsjrS0+s1MSYcAYASGE1LBzaBTv/OITuPuH/4bCtNa1izh1ZhqANrzHa1WwXfFZHO08qAgIIaTCbOVvowsoK4Lbdx3GZNFYFSyeU0Dt0kjjaOdB1xAhhFQwc9lUmSqW0JnLYHJ69rWzOrP4+g1vxaUXneN4b2N7aqs0UjcVykFDRUAIIRWsAsL5nOBzG/qwbffhutdLquhbttDxvlbBX6uq5qhrDagICCGkgtEanyyWsPnyXly3tgeL5+Uxf07Os6XulCFkN5eois2oCAghpAY7a9yPpW6XIVT7fqPryO1JZ0FARUAIIQbsrHGvlrqb4K/RdXRtfzceHhyJrI6AWUOEEBIiTo3mzFpXPPDskUiPseSOgBBCQsbOpWSXqVTFa8GaV6gICCGREaXfO2lYuZSsMpVqCbuOgK4hQkgkODVZ80OUjdnCwsx19JFLeiI9s4A7AkJI6PhNobTDS2O2pO9EjK4jAHjXm18PoFynwKwhQkjL4zaF0i1eFEvUnTz9UnUdxTFfuoYIIaETdP8ct43ZzDJyws7AaYa45ktFQAgJnWbO6jWLA7hVLHF08myGuOYbmmtIRO4DsAHAcVVdVXntdQD+BsAKAL8EcK2qnghrDoSQ5OCnKteuR4+bxmxxdPL0y9h4AScnJjFZLNa9HsV8RbWxt3YgNxa5FMA4gAdqFMGdAP5DVb8oIp8BsEhVtzjdq7+/XwcHB0OZJyEkmYyNF7DujidwZmpWkM/pyOCZLevrirGcFMtjQ6MNCiNpMYJahXdmughVRVdHrun5isg+Ve13ui7MoyqfEpEVhpffB+Cyyr/vB/AkAEdFQAhJH24CzG7aPUTdydMrZoHvfC6D7de/FX3LFkQy36izhs5V1V8DgKr+WkQsm3iLyCYAmwCgp6cnoukRQpJCkG6dKDt5esVM4XVmM1jY1RHZnBMbLFbVAVXtV9X+pUuXxj0dQhJHOxRT2dFMgDkJuP18khDHiHpH8KKIvKGyG3gDgOMRj09IW9AqufHNsq53CQY+3I9mC6uiLiiz+3yMc4njRDIjUSuCxwB8FMAXK//fGfH4hLQ8YVTpJpGglF3UStPu83l6+GXTucQdxwjNNSQiDwF4FsAbRWRERD6GsgJ4t4g8D+DdlZ8JIR5otdx4PwRVWGV3HyvXTbMuN6vP59Cxk7ZrWjwvj9XnnR2LMg8za+hDFr+6IqwxCUkDSfAph01QLSms7vPg3iP46pPDDZZ5ELsHq88HkEDbbARJYoPFhBBzWj2I6oaglJ3ZfSaLJWzf83yDZT784qlAdiFWn0/fsgWu1hRHEgCbzhHSgsTtUw6bZgKoxmCs8T43XdaLgadeQGF6euY9HZkMho6+EpjFbvX5OK0priQAKgJCWpQk58YHQZAtKYwtnrc/OVz3vqlSCWvOO9vSYveTdWT2+ditKc4kALqGCCGRYObycHKDeAmg2gWGa+9j5brpPXe+6etPD78c6IE6VmuKMwmAOwJCSOiYWeoKBOoG8RJgtrLMzXYP1X5HYVvpcSYBUBEQ0gIk/YQtO8xcHrfsOABAUZjWwASsV0Fq5VqrfX1/gHEDJ+IsLKMiICThtHoVsZmlns0IoAJgtuVyswI2DEEatZUeVxIAFQEhCSZJVcR+dyVmwrRYUgD1LfCDELBuBanbtcRhpVfvXY0NcEdASMoJ+qxfvzSzK7ESpgBCEbBGl49R6HtdS9RWehw7QCoCQhJM0K4JP1Z9ELsSK2FafW1uZxanJ4szGT5BYRSqf/Kui/Clx3+OyaK32ERUqbpx7QCpCAhJMEG6JvxamkHsSqwU0OJ5ectGbM1iJlS/8Pc/a7guKW0egPh2gFQEhCScIFwTzViaze5KnFoy282rmWwpM6FqRpL6NMWVQsqCMkJagGY7U46cmEAuI3WvuS1Waqa3kVMXUbsiqp1Do00VcpkJVSOdWbFdS9R9f+LqI8UdASEp4ODoSYwXinWvGS1NO+vb767EydVhZQHP7cw27SuvdatlRXB6sn79nbkMvv+J30TvufNN3x9X2m4cKaRUBIS0OWPjBWzbfbjh9Y2rl80IGTdCz0/A1MnVYRUDOT1ZDMRXXitUDx47iW27DteNY6UEwgzaunF3Rd1HioqAkJCJqirYapyRExPIijRc/7dDx7DlyjcBQGhCz02w28wCHhsvBH5w/erzzsaVfa939VmEFbRNanFgLIpARG4GcCMAAfCXqvrlOOZBSNhE9cW3G6d7URemio2+8o6s4NCxV3H81TMNiiLITBU35w4bLWC72oP9R1/xrVTdWtphBG2TVBxoJHJFICKrUFYCbwcwCeAHIrJbVZ+Pei6EhElUX3yncRbPy+O2q/vw2b89WPe+M5NFfOz+H6MzKzg9GU6mSjOK0LhTqHYBjcKaDqOiOCnFgWbEsSN4M4B/VtXXAEBE/g+A3wVwZwxzISQ0ovriuxnn+necDwhw+98dRkdWcGayiKICxaJiqjjb6mFuZxZF1UAyVbwoQrs6g6qrKGprOuigbZKPGI1DERwE8OcishjABID3AhiMYR6EeMYosOz8/1F98d2Oc/3a83Fl3+tx6Nir+Pj9P0axWN/r56zODG7f2IfL33ROIMLVrSJ0s2twuldYcZggg7Zxdhd1InJFoKrPicgdAH4IYBzAfgDTxutEZBOATQDQ09MT6RwJMcMosK7t78bDgyOWAiyqL76XcRbPy2NhVwc6cxlMFuvTKaeL2qAEmhGwbhSUW0vf7l5Bx2HCDO4n9YjRWILFqvoNAN8AABH5AoARk2sGAAwAQH9/vxp/T0iUmAmsB549AgC2AiyqL76XcboXdWG61PiVuu3qPk+WupPAdKOg3O4a7ILHQbqMkprVEzZxZQ2do6rHRaQHwO8BuCSOeRDiFjftCmordWsFZFQ54W7HqSu0ygimiorbrl6J69eeP3ONk6XuVmA6KSgv7rNy9tHbAAj6li3A4nn5QA+OiSIOkVRFE1cdwSOVGMEUgJtU9URM8yDEFW7aFUyVSjg4ehK/P/Bs4r7oRpwEtJniy4jg0LGT6Fu20JPAtFNQbt1aVgI0yDhM2MF9po8aUNXfimNcQvxiJrCMMYKtG1Zi267DsX/Rx8YLOHTsJGotZ6s1Wf3OTMC+NlnEjQ8MYvPlF5qeOOZXYDopJScBGlQcplml4uQqY/ooIQmg2SCgmcC6+YqLZn4Os12zW3YOjeLT390/kxKaFeDz71tVTh/1QFXA3rLjAArTs+spTCvu2TMM4+lipwtFHBw9idXnne15ztXxqus1PgOn5xpUHKYZpeLG5cP0UUJiJijfrFkFbO3PYbVrdsPYeKFOCQBAUVEuJBPUxQDcsHHNcpx9Vif++Fv78NrUbIZRZzaDGy7pwdeefKHu+m27D+PKVa8PvAXDut4ljs81qDiMH6Xi1uVjVDSTxRJuuqy36TkHAdtQk7bHqRVyUFS/6GG0a3bDoWMn65RALbf/3WHX96ptvdy3bAFKJmcLX3LBEsztzNa97rattdVYVs8AQKStmat9idze366VtpGNa5bjmS3rceOlFwBQDDz1gq8W20HDHQFpe6xcC4eOvYqFXR1NuROMboyw2jW7o7Gx3My9su58+GYWuZm7pG/ZAhS1ucPnjWPddFmv5TNIav494M/l89Unh1GYVhSmyyVUcQeNqQhI22P2RZ2YmsaNDwyiM+vfVWTlyvHjpgjCf9y3bAFyGWDaJLmpWFLHe1m5OJ7Zsh7PbFnfIISbCdKajXXPnmEUDc/gzHSxrmV1khRAFa+xhSQGjakISNvT6JstoqRAYbo0Ewj1apEFnQrYbLfN6s7k9o2r8Pldh1BSYKqo6MwKMhnB1qtWzrgq/AgoM1dJM1a62Vi5rGC6vtgZpZLi0LFXbbOfkoDXgr6kBY2pCEiiCarcv/aLenJiEjc9+FNMFWc7m3i1yMKw6vx22zTuTD53dR9WLVuIuZ1ZnJ4sZ/Ns233Y8T5+BJRfK910rKJiTke27iSxogJ//K19KEEjqclo5u/NS0Hftf3dM5XpAHBtf3esio7BYpJYmj2z1kg1CNi3bGHTFllYVl11jgBcBY/NAqzbdh1G96Iu9J47H92LurBt92FXQehmgt1+1mkc67arVzbEHQDgtaliaAH+WoL+e7NibLyAhwfru+o8PDgS2bnIZnBHQBJJmFWYQRQhhd1Qzu2Ow+k6rzuXKIOyZmPNz+dw6yMHkBHBa4YzhsP0o0dZ9csYASEuCfvLEoTAa/YeQbSwdrouSnePH4xjVZ/poWMnceMDgyhMz+4QwvSjRymckxgjoGuIJJIovixe88WDvIeTG8Ktm8bpuijdPUGxeF4el150Du66ZnVk845SOCfxMxE18ckljf7+fh0c5Nk1aeOxodEG10sSG7h5ZWy8gHV3PIEzU7OCZ05HBs9sWW/aZ6e6awBguYNwCnJWf18NIAfh9gnjnlZjRFE7EPXfWxRrE5F9qtrvdB1dQySxJLmIqBm8uCGqrhOn9hNO7pzF8/J4evjlwFogV+cDAGemSshnBZIR03tGkYkTBFH/vSWpLoKKgARCKxwVGBR+1lr7Hq9uiCACmU738LKm2ntVKRQVKGrDvJLaf9+KJP69RQEVAWmaVvuyN4NxrVs3rMSqZQttBajbtg1hVqLatdkYOvoKtu95Hp3ZrKvPz+6QHuM5wkntv0/qoSIgTZGmL7vZWj/76EHM7cyiqOYFT17bNpgRRCDTrs1Gtbrabd8bu0N6aueVxDRJYk4sWUMi8ikROSQiB0XkIRGZE8c8SPN46bzY6pitFQBOT1oXPNk9H7cZR26yTGq7eLq5Rz4nEJG6swaM83Mznzkd5bXls9IwrySmSRJzIt8RiMhyAJ8EsFJVJ0TkYQAfBPDNqOdC6vHj+07Tl717URcmi0XL35tZu0E9H7tApp/zg83abHiZX+29rLKGwiq6izKTKC3E5RrKAegSkSkAZwE4FtM8SAW/fv6wK2yDpFkB8vTwyyjZZFubCdAgn49ZIHNsvIBbK6eIeTk/eGy8YOreyefE9fzcBFaDzsRJUzwqSiJXBKo6KiJfAnAEwASAx1X18ajnQWZp1s8f1Jc9TEvPrQCxmkP1GdUe/NKRFWQEdUHWqNs2PLj3SIN7x40f3qigJoslbL68F9et7bGtQ7Cbv9U1QWXipCkeFTVxuIYWAXgfgN8A8AqA74rIDar6bcN1mwBsAoCenp6op5kqggjquf2yWwmLMC09OwECzBZp2eXZmz2jObkstl9/MRZ2dToK+DDSEsfGC9i+5/mG1yeL7lxPbhWUm88mCkudwefwiMM19C4Av1DVlwBARL4H4J0A6hSBqg4AGADKlcVRTzJNROXntxIWYVt6VgLkwb1H8NUnh2cs4mKphOkSTOdg9Yz6li2MTQiNnJhAZzY7k+1TZfPlvYEpcDefTVSWepriUVETR9bQEQDvEJGzREQAXAHguRjmQSpE0fvE7kzesDOPzATIZLGE7Xuen5lPYbrUcLJX7RyS2B/GbF35nOC6tcHtoN18NlFljoX9GThlXrUzccQI9orIDgA/ATAN4KeoWP4kPsIur7fb1odt6ZkFbG+6rBcDT73QYE3bzcEsU2ZsvBCbMogiUO/ms4nSUg/r7zTtQehYsoZU9TYAt8UxNrEmzPJ6O2ERhUAzChAA2P7kcN01boK/Qffs8drawXht2ArczWdTe01WBFPFErZetTK0v6Wg/04ZhGZlMYkIJ4HiRaD5zS4yChCz+VjNobbTZlBCo9YKnSwWsfnyCy2zduws1rAUeHXN63qXOFZBb1yzHKfOTOP2XYfRmctg2+7DmD8nlwir2unvhUFotqEmEdNsimjQW3g386kds1AsQVTLTdYqzM/n8O2Pr505YtLtuMZW1ACQz2Vw1zX1a/LStjoovD7nOOboBjfrSOrcg8BtG2oeTEMCw02wzW1bBav7uznH1wtO8zGOOTldqlMCgD9/uFW7isJ045qibuPh5zknsdWI23UkMREgaugaIoHQrnnkpvUDHRmUSop8zr6QzA67xm3GDp4nJ6YwWYwubdLPc05iaqeXdbTr2RduoSJIGc0GJ62ua9c8ciuB/f1P/pbtqVxOz65qhd6yY3/dubzA7JpqlWuxVEJHVjCnCeXjFr/nHCet1YjXdYSZLJF0qAhShBer3e5ao5CLylKPQ9hYjdl77nzL93htAvedvUdwz55hdGZnrwfQoFzzOWD79ReHXsTm9zknzapOonJKKgwWpwSv5+RaXWuWOrmud4nnYFszQeM4uk962R35CTwa77//6Cu44d69OFWYrXPwE5R2wm5d7dLls13W4QeeWUzq8GK1W59mddLykBUvllez8QQ3bRGC/uK7dRv43R0Z7x+EG8zpOTR7DnKr0C7rCBMqgpTgRbBYXQuIpZBz6xYIO57gNl0wLAvRzXN2M36zbg2n55CkIqo0W+xJgYogJdgJFuMX0eravmULbIWcG8srzHiClXBb+YYFM4HdIKuCzXAS4F52Q3597m66rZ6cmEpEEVXaWzskBUtFICLfB/BfVfWX0U2HhImZYLH6IloJIaOQ23rVyrrGbEaMSibMzB+rQ9Xf+xf/hHwu69hhNCisnp0fK9yPW8NLt9Vaok73TNKuJO3Y7Qi+CeBxEbkfwJ2qOhXNlEiY1AoWpy+imRCqFXIHR09i2+7DltaclZKpPxCliJsu6w1kbWZKphq0nTQ5khGwt4LtDqlx49pxG3upHT8IN4l5t9Uitu8ZrjvJrCMryOecD9YJC7Z2SA6WikBVHxaR3QA+B2BQRL4FzH5iqnp3BPMjIeL0RbQ7cQoAfn/gWUslYqdkqsrkwb1HsH3PMAaeegHbnxxu2i1gdMuYtYMwYmUFWymxZmIQTruhoNwkZu6p2W6r/g7WCYMkFqGlFacYwRSA0wDyAOYDhj03STx2FqbdF9FJKDkpETfW3lefLFuoVeHkxi3gZDEbW0VvuOdpwOPxknaxBidXhlNzOLs4TZBuErNuq1/50b/VXTMxNR3rwTrM808OdjGCKwHcDeAxAG9V1dcimxWZoRlXgZv0QLMvItBYzGQUSk7WnNPv/exG3FrMtW4Zoxtq8+UX4j2rXm9bFWw1t6Gjr1ik1b6KhV0drjqTWsUPvLpJvLqnxsYLKJ8DNasUyz/HS9KK0NKK3Y7gswA+oKqHopoMqacZV4FbC9Psi7jfQuDVCiUna87p9153I+t6l/iymO3cUFaFWVZzW3Pe2Q2vT0xN48YHBtGZnXVF1WImzM3iB17cJH7+LkZOTJTbU9TESubksonwxzPPP37sYgS/FcaAIvJGAH9T89IFAD6nql8OY7xWpVlXgRcL028xk5M1Z/d7r7uRgQ+/ranAohc3lNXces+d37DDKCnq7mvErc/brZvE798F/fHEjjiOqvw5gDUAICJZAKMAHo16Hkmn2YwKv1/8qsth64aV2LbrsKPv1smas/u9mR97z8+OI2twWZTbG4tvQebnWVopsdrXT05MYtO39mHKEIMQwFdnUjdukmYql72m/pL0EHdB2RUA/p+q/irmeSSOZi04P4E4o8th61UrsWr5wlB9t1VFUR07lxGcnizWXTNVKqFv2QLfgUW/z9JKiVVfH37xVMPBMlNFxY4/egc6cllfz81JsTbzd+El9TcJsOI4OuJWBB8E8FDMc0gkQWRUeD3+0ehy2Lb7cCSnNNWOXcvcziyKqjPr9htYDCs75fRkEfms1KWn5rOCjlw20MZwtTS7Fjepv0mAFcfREpsiEJFOABsB/JnF7zcB2AQAPT09Ec6seWrPt7XKTnFj7QSRUWFmYZqNHWdxj9nYc/NZ3H51Hy5/0zmOgVY3hJGd0r2oC5KRuvRUyUiofvex8QLOXzwXuzb/pm3mkx1JL+RixXH0xLkjeA+An6jqi2a/VNUBAANAuQ11lBNrhqolo6VyIdOcjvLxfbUWjRdrJ+iMCqux4wwmmo1dLGmDEmiWoJ9l1HnwZp+dn51H0gPHSVdU7UicZxZ/CG3mFqq1ZKrugjNTpbqzUsM4d9fP/IxjV4ValOe2Vs84BtCyZ8ZuXLMcz2xZj29/fC2e2bI+NPdFkH83cXzWXki6ompHYtkRiMhZAN4N4I/iGD8srJqeAfUHeSfJBVM7dpTFPWbW7TNb1rdkcDCKPPigreQkF3Kx4jh6YlEElSrlxXGMHSZ2B5LXWjRJcsEYx45CqFn5gJ/Zsj60IGsUhH3OwcRUfeO8ianppv5uklzIlWRF1Y7E6RpqO2q33PlsORd+Tkembusd57Y8KS6BqnVbS+2OqRXZOTSKdXc8gRvu3Yt1dzyBx4ZGAx/D2BIiCS0iwmTxvDxWn3c2lUAExJ0+2nYYm56ZZXbEae0kwdIK0gechFzzKLJcktwigrQ+VAQhYNxyV4OitcIqzm151GO7PQHN65ySkmseRZYLA6gkTKgImsCNNZoUYRUkXqxwryegeZlDUnLNnYR0ELsWBlBJmFAR+MTtASVhCqs43CJeFJufE9DckqRcczshHaQhkAS3HmlPqAh84FbAhyms4thpeFVsYa4/aa4SMyEdhiHgRXkmIX5CWgNmDXlkbLxg2SHTmPUSlrCKqyjNa7ZPmMI6KRlQxjnVZrnEmR0VRRYTaR+4I/CAU4dMo4ALy68bl1vESrDP7cw2BMOBcP3a1Z473/7Dt+OXY69hzXlno/fc+U3fN0ji2rUkKX5CWgMqApe47ZBpJKxmZ3EIGDPBfu3burHhnqctXVRBrr/q6qi2UAbKLTzyWYFkJHGB+LgCvEmKn5DWgIrAJV46ZBrxGhR18u3GmUFirJO46n//EwrTamt5BpGuWt2NZaVxN1YoKlBU07Hj9pMHkR3l9b1Ji5+Q5ENF4JKoOmS6DQLHmUFSFex/8aPnUZh2PqPXL7XtvM12Y0aMYyclddevIvQ7f6aaEq9QEXjgpst6cc+eYXRm/X+57Cw8r77dqoAxK1gLm7HxArbvGW54fbJYDMTyrBWCZofCm2HM3W9lP3mz82eqKfECFYELaoUSoNh06QW4bm1P4JWwfny7cVm9Iycm0JnNNBzavvnyC5sWOmZC0Ix8rjx+bYzAmLHTqn7yIOaf5KZyJFlQEdgwNl7AoWMncct392OyOOsH3/7kMK5b6+3UNDcWnlffrh+rMSifuVWn1dfN7fR9zypmQjCXAWp1zrX93bh+7fmW/Zxa3U/e6vMnrQXrCCyo5mF//P59mCya+8G94Can3GtuvNc89SBzyxfPy2PrhpUNr2/bfbihnqHqunJb52AmBA0bDzy2/xi6F3Wh99z5ph0qk1hn4IVWnz9pLbgjMMEqVbTKZNG7ZebWwvPi2/ViNYbhM1+1bOGMRV4liICtMdhZmC4ik5G6z8ONm6TV/eRe5h93dhRpbeI6oexsAPcCWAVAAfyhqj4bx1zMsDtpDAA2X97r+cvmJZPDrW+39p7ZjGCqqNi6YWVk7R66F3WhaAjiBhWwNaapbrjnactxzKgVjK182I2bv4WkZEeR1iWuHcFXAPxAVa8RkU4AZ8U0D1PsThrL58RzfKCKk4Xnx6rbuGY5Tp2Zxu1/dwgd2Qy27TqM+flcgyAIw+fspNyaVT61QtBLOmSaBGOrZ0eRZBC5IhCRBQAuBfBfAEBVJwFMRj0PO2oFHNBYvdqMALey8PwKr7HxAj6/6xAmi4rJYtlFY1XUFUZuuZ1yC1L5uHWTpEmGEAEjAAAQzUlEQVQwOvW9arf1kvCIY0dwAYCXAPyViKwGsA/Azap6Ooa5WOLmpDGgUYBv3bASq5Yt9GTVNyO8Htx7xHVRV1g+cyvlFrTyceMmafW0UbfsHBrFrTsOICOCiSnnvleE2BGHIsgBeCuAT6jqXhH5CoDPANhae5GIbAKwCQB6evy5YprFSfCYCfDPPnqwrv+QG6ver/DyU9QVVm651a4o6oBtGtIux8YL+PR392PKkM3m1PeKECviUAQjAEZUdW/l5x0oK4I6VHUAwAAA9Pf3O5eVxoBVULmaRePWqvcrvMIs6vKCk1srysKmNLRXOHTsZIMSAIBbfuciXL16eVutlURD5IpAVf9dRI6KyBtV9ecArgBwOOp5BIFdUBlw75LwK7zMxs/nMr6D2X5Iok++1dNGnRHTVy9YOr8N10qiIK6soU8AeLCSMfQCgD+IaR6+qbpCtm5YiW27DiObEZwu+PfV2gkvK7dLEqzfpPrk27m9Qt+yBQ2V1rlM+XVC/BCLIlDVIQD9cYwdBA0B4qtWYtXyhTN98p2Esp1gdwpGh9nv3w9p8MknjcXz8rj72jW4Zcd+ZCWDopZw1zWr21bxkfARddHVMW76+/t1cHAw7mkAKAvxdXc8UVflOqcjg2e2rJ/pBGonlL0e/m43Vph4SYl9bGi0YVfSrnn7SYLVxMQJEdmnqo5GN1tMeMTJFWLnkoj78He3gsNrTUPcu5Iw8CtkoxTO7ez+ItGSKkUQxJe0GVeIV8EepNvFrXD3G/xtJ6Hkt7gvTRXNpL1ITffRoDpvNtMV0qtgD6oDZa1wP1WYxpmpEm595IBpN1CvHU3bDS/PKoj3EZIEUrEjCDrF0a8rxE+WTxBuFy87kbQHf/2645KaPUWIG1KhCML4kvp1hfgR7M26XbwI9ySkpMaJX0WYdgVKWptUKIKkfUmj8Kcb4yFehHs7Bn/d4lcRpl2BktYmNemjaUpxtApaGpUD0w+taYWsIUKccJs+mhpFALTPl9RuHW5rD5jhQkj7wzoCE9y6ZMJUGGPjBRw69ioARd+yhZ7v7yTA3cRDktgfiBASH6lSBG4I01LeOTSKP314aKZHTEdW8L8+sNr1/d0IcDfxEGa4EEJqSU0dgRuaySHff/QV2+vGxgu4dcf+ukZhU0XFLTvc55q7yfF3U3vQTPDczVpbhbDW0k7PiKQD7ghq8GMpu91BjJyYQFYyAOo7lGYz4toSdyvAjVk/ALD/6Cszri6/GS7tFFcIay3t9IxIeqAiqMGrpezF1969qAtFbTy7oFhS12msXgR4VeBbCSavKaLtFFcIay3t9IxIuqBrqAavLR28tGNYPC+Pu65ZjVzN5R1ZwV3X2FviRjfDut4lGPhwP7ZffzGe2bLe1tp0cnUtnpfH6vPOdiWk2qn1RFhraadnRNIFdwQGvFjKXncQ1Xu7zRoyWvPX9nfj4cER126HIIPCSSvKa4aw1tJOz4iki1h2BCLySxH5VxEZEpFkHDRQw+J5eXQv6sLIiQnbgJ+fpnCL5+Vx6UVLcelF5zjuBIzW/APPHrENZBt3D0EKpqAa4CWBsNbSTs+IpIs4dwSXq+rLMY5viZeAX1jtGMyseSO11r3VnINse9BOrSfCWks7PSOSHugaMmAW8Ltlx37bgF8YvYPMrHkjVeveLkgZtGBqp3MHwlpLOz0jkg7iChYrgMdFZJ+IbIppDqaYBfwK04rv7D0S6TzM3AwfuaTH1O3gFKT0EhQmhKSPuHYE61T1mIicA+CHIvIzVX2q9oKKgtgEAD09PZFNrHtRFyaLxYbX79kzjOvW9kTagMzMmr/5iosa7skgJSGkGWLZEajqscr/jwN4FMDbTa4ZUNV+Ve1funRpZHNbPC+PzZdf2PB6ZzYzEzx2UzUa5Ilotda8mXXPICUhpBki3xGIyFwAGVU9Vfn3bwP4fBhj+bXIr1vbg3v2DKNQ0w9iqlTCwdGT+P2BZ0M797cZGKQkhPglDtfQuQAeFZHq+N9R1R8EPUgzpf7l4q/6bJutV63Ett2HXQn3uJq6MUhJCPFD5IpAVV8AsDrMMYKwyGeLv04CEADaEuf+lttcl+fct2wBFQMhxJG2TB8NyiJ/evjlmV3FZLGIkuEMn6jO/XXr4to5NIpPf3c/porlieYywN3XrmHTM0KILW2pCIKwyM12FbkMkM9l0JmN7txfty6ucpvrAzNKAACmS841EIQQ0paKIAiL3GxX0dWRw/br34qFXR2uhHutz95P4NqLi2vkxASyGWm4R1Z44AwhxJ62VASAuUXuxX9utavw43f3G7j24uLqXtSFotF3BaCorCcghNjT1m2oa3Pudw6N4h3/80f4yH0/xkfu+xes/cI/2ub2u83Nd6or8HvqGeDexVXdbXzu6pXoyM7uCnIZ4K5rVnM3QAixpW13BLX49Z87+fndWPqHjp1ERupdNm4D125cXMY5/I+r+3De67rArCFCiFtSoQia8Z9b5ea78d/vHBrFrTv2ozBd77LxEri2U0Zmc9i2+zCe2bK+6ZO2WJhGSHpIhSIIw3/u5L+vCmmjEsjnvLd/sFJGYRSu8cxdQtJHW8cIqlQrhYP0nzv57806gp7VkcVffqQ/MMEadOFaM/EMQkjrkoodAdBYKVzrP/fjCnHy35sJ6RIUfcsW+Jq/2RyDLlyLqzUGISReUqMIgOoxkefUvealYMsoiO3890EKabs5Btlsju2sCUknotroO08a/f39OjgY/NHGY+MFrLvjCZyZmhV+czoyDcHWZvzmzQZe3c4xKB4bGm1QXowRENKaiMg+Ve13ui5VO4IqVeF8cmLK0RXSbAO7ZjuCRu2uYTtrQtJH6hRBrXU/WSyh6OAKidtvHoe7hu2sCUkXqcgaqmLMiilMlyAiyOfEsno4br85Tx8jhIRNqnYEZtb9nFwW26+/GAu7Ok1dIVVBfMuO/chKBkVtLjPHD3TXEELCJFWKwLqR3EJb4VoOp0vlfJrGCuUooLuGEBIWsbmGRCQrIj8VkV1RjenHzTJbIVzCa5NFFKZZZEUIaS/i3BHcDOA5AP4qrHzi1c0Sd7CYEELCJpYdgYh0A7gKwL1xjF/bntqJuIPFhBASNnG5hr4M4FYAJasLRGSTiAyKyOBLL70U3cwMMGuHENLuRO4aEpENAI6r6j4RuczqOlUdADAAlCuLI5qeKczaIYS0M3HECNYB2Cgi7wUwB8ACEfm2qt4Qw1xcw6wdQki7ErlrSFX/TFW7VXUFgA8CeCLpSoAQQtqZVFUWE0IIaSTWgjJVfRLAk3HOgRBC0g53BIQQknKoCAghJOVQERBCSMppe0UwNl7A/qOv1PUGMnuNEELSSlt3HzU7YlIB38dOEkJIO9K2isDsiMlbduwHIChM+zt2khBC2pG2dQ1Vu4bWkpUMspn68wSqnUQJISSttO2OwKxr6HSpCEW9ImAnUUJI2mnbHYGxa2guAyhkZkeQz4rvTqIMNhNC2om23REAs11DDx17FTc+MIjCdAlTxXIjUxXB7s2/id5z53u6p1kAmsFmQkgr07Y7giqL5+WxsKsDndn6peazGZyeLHq6V20A+lRhGmemeGwlIaT1aXtFAAR3yphZAJrBZkJIq5MKRRDUKWM8tpIQ0o60dYygliBOGasqlFsNMQLWIBBCWpnUKAIgmFPGeGwlIaTdSJUiCAoeW0kIaScijxGIyBwR+RcR2S8ih0Tk9qjnQAghZJY4dgQFAOtVdVxEOgA8LSJ/r6r/HMNcCCEk9USuCFRVAYxXfuyo/KdRz4MQQkiZWNJHRSQrIkMAjgP4oaruNblmk4gMisjgSy+9FP0kCSEkJcSiCFS1qKprAHQDeLuIrDK5ZkBV+1W1f+nSpdFPkhBCUoKUPTUxTkDkNgCnVfVLNte8BOBXPodYAuBln+9tVbjmdMA1p4Nm1ny+qjpa0pHHCERkKYApVX1FRLoAvAvAHXbvcbMQm/EGVbXf7/tbEa45HXDN6SCKNceRNfQGAPeLSBZl19TDqrorhnkQQghBPFlDBwBcHPW4hBBCzElD07mBuCcQA1xzOuCa00Hoa449WEwIISRe0rAjIIQQYkNbKwIRuVJEfi4iwyLymbjnEzYicp6I7BGR5yp9nG6Oe05RUClQ/KmIpCbpQETOFpEdIvKzyud9SdxzChsR+VTl7/qgiDwkInPinlPQiMh9InJcRA7WvPY6EfmhiDxf+f+ioMdtW0VQyUraDuA9AFYC+JCIrIx3VqEzDeBPVfXNAN4B4KYUrBkAbgbwXNyTiJivAPiBqr4JwGq0+fpFZDmATwLoV9VVALIAPhjvrELhmwCuNLz2GQA/UtULAfyo8nOgtK0iAPB2AMOq+oKqTgL4awDvi3lOoaKqv1bVn1T+fQpl4bA83lmFi4h0A7gKwL1xzyUqRGQBgEsBfAMAVHVSVV+Jd1aRkAPQJSI5AGcBOBbzfAJHVZ8C8B+Gl98H4P7Kv+8H8J+DHredFcFyAEdrfh5BmwvFWkRkBcppug19nNqMLwO4FUDJ6cI24gIALwH4q4pL7F4RmRv3pMJEVUcBfAnAEQC/BnBSVR+Pd1aRca6q/hooG3sAzgl6gHZWBGLyWipSpERkHoBHAPw3VX017vmEhYhsAHBcVffFPZeIyQF4K4CvqerFAE4jBHdBkqj4xd8H4DcALAMwV0RuiHdW7UM7K4IRAOfV/NyNNtxKGqmc8fAIgAdV9Xtxzydk1gHYKCK/RNn1t15Evh3vlCJhBMBITdfeHSgrhnbmXQB+oaovqeoUgO8BeGfMc4qKF0XkDQBQ+f/xoAdoZ0XwYwAXishviEgnyoGlx2KeU6iIiKDsN35OVe+Oez5ho6p/pqrdqroC5c/3CVVteytRVf8dwFEReWPlpSsAHI5xSlFwBMA7ROSsyt/5FWjzAHkNjwH4aOXfHwWwM+gB2vbMYlWdFpHNAP4B5QyD+1T1UMzTCpt1AD4M4F8r5z0AwH9X1e/HOCcSDp8A8GDFyHkBwB/EPJ9QUdW9IrIDwE9Qzo77KdqwylhEHgJwGYAlIjIC4DYAXwTwsIh8DGWF+IHAx2VlMSGEpJt2dg0RQghxARUBIYSkHCoCQghJOVQEhBCScqgICCEk5VARkNRS6db6CxF5XeXnRZWfzze5tigiQ5Xul/tF5E9ExPb7IyIrROS6sOZPSFBQEZDUoqpHAXwN5TxtVP4/oKq/Mrl8QlXXqGofgHcDeC/KOd52rABARUASD+sISKqptOTYB+A+ADcCuLjSrdZ43biqzqv5+QKUq9eXADgfwLcAVBu/bVbV/ysi/wzgzQB+gXLXyEfNrgtlYYR4gIqApB4R+R0APwDw26r6Q4tr6hRB5bUTAN4E4BSAkqqeEZELATykqv0ichmAT6vqhsr1Z5ldF97KCHFH27aYIMQD70G5tfEqAKaKwIJqh9sOAPeIyBoARQAXWVzv9jpCIoWKgKSailB+N8onuj0tIn9d7f3u8L4LUBbmx1GOFbyI8klhGQBnLN72KZfXERIpDBaT1FLpYvk1lM9tOALgLpQPP3F631IAXwdwj5Z9qwsB/FpVSyg3/ctWLj0FYH7NW62uIyRWqAhImrkRwJGauMBXAbxJRP6TybVd1fRRAP8I4HEAt9e876OV4PBFKB8UAwAHAExX0k0/ZXMdIbHCYDEhhKQc7ggIISTlUBEQQkjKoSIghJCUQ0VACCEph4qAEEJSDhUBIYSkHCoCQghJOVQEhBCScv4/pxqMin/dpq8AAAAASUVORK5CYII=\n",
      "text/plain": [
       "<Figure size 432x288 with 1 Axes>"
      ]
     },
     "metadata": {},
     "output_type": "display_data"
    }
   ],
   "source": [
    "my_data.sample(n=250).plot(kind= 'scatter', x='X Data', y='Y')"
   ]
  },
  {
   "cell_type": "markdown",
   "metadata": {},
   "source": [
    "#### Batch Size"
   ]
  },
  {
   "cell_type": "code",
   "execution_count": 12,
   "metadata": {},
   "outputs": [],
   "source": [
    "batch_size = 8"
   ]
  },
  {
   "cell_type": "code",
   "execution_count": 13,
   "metadata": {},
   "outputs": [
    {
     "data": {
      "text/plain": [
       "array([-0.65152652, -0.11901627])"
      ]
     },
     "execution_count": 13,
     "metadata": {},
     "output_type": "execute_result"
    }
   ],
   "source": [
    "np.random.randn(2)"
   ]
  },
  {
   "cell_type": "markdown",
   "metadata": {},
   "source": [
    "#### Variables"
   ]
  },
  {
   "cell_type": "code",
   "execution_count": 14,
   "metadata": {},
   "outputs": [],
   "source": [
    "m = tf.Variable(0.85)\n",
    "b = tf.Variable(0.87)"
   ]
  },
  {
   "cell_type": "markdown",
   "metadata": {},
   "source": [
    "#### Placeholders"
   ]
  },
  {
   "cell_type": "code",
   "execution_count": 15,
   "metadata": {},
   "outputs": [],
   "source": [
    "xph = tf.placeholder(tf.float32, [batch_size])\n",
    "yph = tf.placeholder(tf.float32, [batch_size])"
   ]
  },
  {
   "cell_type": "markdown",
   "metadata": {},
   "source": [
    "#### Graph"
   ]
  },
  {
   "cell_type": "code",
   "execution_count": 16,
   "metadata": {},
   "outputs": [],
   "source": [
    "y_model = m* xph + b"
   ]
  },
  {
   "cell_type": "markdown",
   "metadata": {},
   "source": [
    "#### Loss function"
   ]
  },
  {
   "cell_type": "code",
   "execution_count": 17,
   "metadata": {},
   "outputs": [],
   "source": [
    "error = tf.reduce_sum(tf.square(yph - y_model))"
   ]
  },
  {
   "cell_type": "markdown",
   "metadata": {},
   "source": [
    "#### Optimizer"
   ]
  },
  {
   "cell_type": "code",
   "execution_count": 18,
   "metadata": {},
   "outputs": [],
   "source": [
    "optimizer = tf.train.GradientDescentOptimizer(learning_rate = 0.001)\n",
    "train = optimizer.minimize(error)"
   ]
  },
  {
   "cell_type": "markdown",
   "metadata": {},
   "source": [
    "#### Initialize Variable"
   ]
  },
  {
   "cell_type": "code",
   "execution_count": 19,
   "metadata": {},
   "outputs": [],
   "source": [
    "init = tf.global_variables_initializer()"
   ]
  },
  {
   "cell_type": "markdown",
   "metadata": {},
   "source": [
    "#### Session"
   ]
  },
  {
   "cell_type": "code",
   "execution_count": 20,
   "metadata": {},
   "outputs": [],
   "source": [
    "with tf.Session() as sess:\n",
    "    \n",
    "    sess.run(init)\n",
    "    \n",
    "    batches = 1000\n",
    "    \n",
    "    for i in range(batches):\n",
    "        \n",
    "        rand_ind = np.random.randint(len(x_data), size= batch_size)  #random index returns random integer from 0 to length of x_data of size 8 (batch size)\n",
    "        \n",
    "        feed = {xph: x_data[rand_ind], yph: y_true[rand_ind]}\n",
    "        \n",
    "        sess.run(train,feed_dict=feed)\n",
    "        \n",
    "    model_m, model_b = sess.run([m,b])"
   ]
  },
  {
   "cell_type": "code",
   "execution_count": 21,
   "metadata": {},
   "outputs": [
    {
     "data": {
      "text/plain": [
       "0.43888676"
      ]
     },
     "execution_count": 21,
     "metadata": {},
     "output_type": "execute_result"
    }
   ],
   "source": [
    "model_m"
   ]
  },
  {
   "cell_type": "code",
   "execution_count": 22,
   "metadata": {},
   "outputs": [
    {
     "data": {
      "text/plain": [
       "4.850715"
      ]
     },
     "execution_count": 22,
     "metadata": {},
     "output_type": "execute_result"
    }
   ],
   "source": [
    "model_b"
   ]
  },
  {
   "cell_type": "markdown",
   "metadata": {},
   "source": [
    "#### Visualization"
   ]
  },
  {
   "cell_type": "code",
   "execution_count": 23,
   "metadata": {},
   "outputs": [
    {
     "data": {
      "text/plain": [
       "[<matplotlib.lines.Line2D at 0x29969011ef0>]"
      ]
     },
     "execution_count": 23,
     "metadata": {},
     "output_type": "execute_result"
    },
    {
     "data": {
      "image/png": "iVBORw0KGgoAAAANSUhEUgAAAYIAAAEKCAYAAAAfGVI8AAAABHNCSVQICAgIfAhkiAAAAAlwSFlzAAALEgAACxIB0t1+/AAAADl0RVh0U29mdHdhcmUAbWF0cGxvdGxpYiB2ZXJzaW9uIDIuMi4yLCBodHRwOi8vbWF0cGxvdGxpYi5vcmcvhp/UCwAAIABJREFUeJztnXucFNWV+L+3u+clw8sBVF6iQSSAgsoGBUTBRxAQNQFi1Oi6UZONr41GMBrDuqybqIm/PHTjh1XXJLImgEYQiIria0bFQAQEBJmowCCCjAMyMPRMd9/fHzU9091T1V39qKqe7vP9A2Z6qqtu3a4+59zzukprjSAIglC8+LwegCAIguAtoggEQRCKHFEEgiAIRY4oAkEQhCJHFIEgCEKRI4pAEAShyBFFIAiCUOSIIhAEQShyRBEIgiAUOQGvB2CHXr166UGDBnk9DEEQhE7F2rVr92mte6c6zjFFoJR6ApgG7NVaj2h97UHgYqAZ+AdwrdZ6f6pzDRo0iDVr1jg1VEEQhIJEKbXdznFOuoaeBCYnvLYSGKG1PhX4EPixg9cXBEEQbOCYItBavwF8kfDaS1rrUOuv7wD9nbq+IAiCYA8vg8X/AvzVw+sLgiAIeKQIlFJ3AyFgQZJjblBKrVFKrfn888/dG5wgCEKR4boiUEpdgxFEvlIn2QxBaz1faz1aaz26d++UQW9BEAQhQ1xVBEqpycAcYLrW+rCb1xYEQfCS+sYg63fup74x6PVQOuBk+ujTwLlAL6VUHTAXI0uoDFiplAJ4R2v9fafGIAiCkA8sWbeLOc9soMTnoyUS4YFvnsr0Uf28HlYbjikCrfW3TV5+3KnrCYIg5CP1jUHmPLOBIy0RjhABYPYzGxg3uBdVlWUej85AWkwIgiA4SF1DEyW+eFFb4vNR19Dk0Yg6IopAEATBQfr3rKAlEol7rSUSoX/PCo9G1BFRBIIgCA5SVVnGA988lfISH13LApSX+Hjgm6fmjVsIOknTOUEQhM7M9FH9GDe4F3UNTfTvWZFXSgBEEQiCILhCVWVZ3imAKOIaEgRBKHJEEQiCIGRBPheK2UVcQ4IgCBmSbqFYfWMwL+MEoggEQRAyIN1CsXyuLhbXkCAIQgakUygWqzQOBkMcaYkw+5kNeeNOEkUgCIKQAekUiuV7dbEoAkEQhAyILRTrUuqn1K+4Z+owU7dQvlcXiyIQBEHIkOmj+nHP1GG0RDSlAR/zlm9m6bpdHY7L9+piCRYLgiBkSH1jkHnLN9McitDcuhv77Gc2MOy4bhxqDsdlB+VzdbEoAkEQhAyJ+v6jWUMAOqKZ8ttqyvwds4PytbpYXEOCIAgZYub7D4Y1zSHr7KB8LEATRSAIgpAhib7/Ur+ivMQ6O2jJul2Mu38VVz22mnH3rzKNJ3iBuIYEQRCyINb336XUz7SHq+P+Hs0OyuedymRFIAiCkCVVlWWMHNCDwcd0bU8pLfNTGvBxzzQjpTSfawlkRSAIgpBDpo/qx8EjIe59fhMlfh/zlm2ma1mAcYN75W0tgawIBEEQckhbSmlYc6g53BYwBvK2lkBWBIIgCDmkrqEJHdFxr+mIpq6hKW9rCUQRCIIg5JAupX6C4XhFEAxrupT6gfysJRBFIAhCG271y8+HvvxOjeFQc5jyEh9HWtrjAeUlPg41hy3HsenTLwHN8L7dPZkPUQSCIADu9cvPh778qcaQqCTSURpWwV+z15es28XtC9cRatUZJX7FL2eOdH0+lNY69VEeM3r0aL1mzRqvhyEIBUt9Y5Bx96/qYMXWzJmUUwvVretkM4ZEJTHrjP4sXFuXluJaum4Xs1Mou/rGIGN//grBULwMLgv4eOvO3MyHUmqt1np0quNkRSAIgmnPnGiOey4FtFvXyXQMQIeirz+8swMgrSIwO0HhuoYm/MoHxLuM/D7l6nyApI8KgoB7/fKtrtOl1O9a/51k92pW9JWI3SKwaJGZlUDv37OCsI50eD0c0a7XFogiEATBtX75ZteZNbo/0x6ujuu/42RjtmT3aqYkEsmVgqyqLOPBGSMJxEjhEr/iwRnu1xZIjEAQhDbczhqK9uaJ9dcHfOD3+Sg1aePsxBgS7zXRvz9rdH/+/Led+JWPsI7w4IzcBnMTs4aAnH0GEiMQBCFt3Mpxj15n/c79Hfz1oQiEIhGCIWcbs1nda6J/v7p2H3/+Wx0oQKucjiE6jglDegPeZVSJa0gQBM+w44rxojFb1L8PRvA4GIpwuDlMMNRxf4FcEdud1GovA6cQRSAIgmck+uvLAooSf7zV7WVjNjc7hnrZnVRcQ4IgeEqiK6amdl+HHHwn3FV24iF2s6lyEVtxK3PLDFEEgiB4Tqy/3o3GbHZ98dEVSzLFlCu/vp1rOYVkDQmC0GnJxBLPpLrZ6jpm5yoL+Pifq0czvG83W2OKPTeQ075DkjUkCEJBk6klnkl1s1WGkdm5gqEI3//jWiLolGOKvYcjoTBaaypKAq73YHIsWKyUekIptVcptTHmtaOVUiuVUtta/+/p1PUFQShcssmwyaUv3irr6XBLOOWYEu+hJawJRXA9YwiczRp6Epic8NqdwCta65OAV1p/FwRBSItsMmxyWUUde66jWvcbsDumVO0s3Eybdcw1pLV+Qyk1KOHlS4BzW3/+PfAaMMepMQiCEE8+7AOQC7LN5okGpBMrepOR+lwHuP4Pa+K6iSZbaaSqoXAzbdbtGMExWuvdAFrr3UqpPi5fXxCKFqeqVr1QLrnI5qmu3Wd7PlKdy6gO7sODM0bazvpJvAezGIFb8+lo1lDrimCZ1npE6+/7tdY9Yv7eoLU2jRMopW4AbgAYOHDgGdu3b3dsnIJQ6OQyUyYWrzeZSSebJ/Z+05mPdOcuXcWYmDWUS6War1lDe5RSx7WuBo4D9lodqLWeD8wHI33UrQEKQiGSbqaMHQEfG+xMp1d/Lkknmyf2ftOZj3TnLt1+TYnHe+Gyc7vFxFLgmtafrwGWuHx9QShK0smUsZuR42VLhFSkut905sPLil+3cDJ99GngbeBkpVSdUuq7wM+BC5RS24ALWn8XBMFh7GTKRPcA2PTpAVsCPp8FZKr7TSdzyK29GrxEKosFoYiw8l/HuoKaw2EiGlrC7bLByiduZ29eL0nlr0/Hn98ZM67sxghEEQhCkWMWDE1nc5jOKCCLhXwNFguC4BJ2BbRZMLSsxM8dF57Mib27pOx549ZmNvlKNoowX5SoKAJBKEDSSes08/UfCoZ58MWthHXqfjnFTDbps16n3sYiG9MIQoGRbh+e2GBol7L2NgmHmlP3yylmsul35OVuZGaIIhAEm0SzavJdKGaS1jl9VD9q5kzi3ouH0yWhZ46bKaGdZY4hu/TZfEu9FdeQINggn5bxqcg0rbOqsoyJQ/vwkyUb4153KyW0s8xx1K/fpdSfcfpsvqXeyopAEFKQb8v4VNjNezezvr3Kme8sc7xk3S7G3b+Kqx5bzbSHq5k1un9Gc5VvtQmyIhCEFGSykYnXpNruMZn17cZWkYl4Ocd2M3fMWmosXFPHspvGc6g5nPZceTHPVogiEIQU5Nsy3i5WaZ31jUFmL95AMGTdI8jtlFCv5jgdd5SVsjrUHGbkgB6m70lFvqTeimtIEFKQuIwvC/i48dzBOb2Gm0HSBat3EAzFC12vewR54SpJ1x3VWQ0CO8iKQBBsEF3GL1i9g0de3cb8Nz7ikddqcxLQdDNIWt8Y5JFXt3V4vTnsvUBz21WSSVdRqz0Qsmk9HT0+NgidiaspG0QRCAWBWxWa//1aLcGQJhgKAdm3XXa7lXNdQxOlfn/b+KOcP7RPXrgo3HSVpGvh1zcGOb6qS4eYQLqK3Ox4Dcx5ZgMAR1oilPkVX/liJw+xjaHz7oRevXJ232aIIhA6PW5Z1OlYkNm0d3AySNq/Z0UHJQDw8pa91DcG80IZuIWdXc6imD1jIwf0SFuRmx1/x+L1gCIYijB43w6mbqlmytZqTt63gwiKL885k26Xz3B0LkQRCJ0aNy1quxZktu0dnPQ7V9fuI6IVEN9sstSf31lQTmHHHZXsGUtXkZsdf/K+nXz9gze5YNObDKk3hP/fBgznp+d/jxeGjOU7vUdyswP3HosoAqFT46ZFbceCTFcxpWOVZkt0bKFIx47D+RD09KoBm5k7KnYsyZ6xdBV59PiTPt/O1K3VTNlSEy/8T/sefz15HJ9XHt32nodfreWKMQMdnRNRBEKnxm2LOpUFmYlicitIajY2gFK/8rSYqb4x2BqEr7XV9tppEld090wbZvmM2VbkWsOmTVQtWsTfFjxN14+3EUGxZuAINlz/n+yedBG3vrGHSMQI3MfixmpNFIHQqXHToo69ptX5s2nv4LQgNhtbacDHipvHM/iYrpbvq28MsunTA4BieN9uOR3nknW7mL14PcGQsUqJprW6vfdxFLMV3bxlm7ln6jDmLd9s+owlKnKA9Tv3079HOVXba2HhQli0CLZsAZ+PrhMm0HjzTWyf8HW+cvIgqirLOBWoOcuY5+t+v4bmmE2B3FitiSIQOj35VKHphWLKdmzJlMCSdbv40aL1bbuVBXzw0KxRObHWo0I3qgRiia1ryIcK5xH9ulMzZ5LlWKKKfMl7dTz+6FKmfFDDBZvfpKp+J/h8cM45cMst8I1vwDHHUAkMT7h2VWUZE4b04RczR7r+/IgiEAqCfKnQhPxSTImkM7ZoBXLslpWhiJHlkgtr3cpVBYYVvHHXAb41/21Xm9AlW9FZPmNaw/vvc3jB05zy+FMsra8jrHysHjCCP35tOrc8PJujTxxoewxePD+iCATBBukGMvNJMSVid2x1DU34farD636VG5+1mdAFKAv4uGfaMP7j+U0EQzqrbLBkn5vV3248dzAPJ8QrTH3+GzYYLp9Fi+DDD6nw+dg78FQeP2M6Lw45i31detK1LMBlJd04mvRw+/kRRSAIKXCqTiFftim0Gk//nhWETTKMwjo3PutEV1VzOMxNE0/iijEDW9tgxF873WywZJ9bsqIuY58AzQ0TTozP1okK/6jPf9s2w+0zcSLcdhsNF07hn5/YGLf3cz5kY9lBNq8XhCSYbexeXuKjZs6krIR3vvXetxrP0nW7uN2hGEGURAVU3xhk7M9XdeiHVBZQvHXnebZbOFh9bkCHv5UFFNGirrjjZ0+k6h9b2i3/qPCfNAlmzoTLLoPevdves2D1du59fjMlfkU44v02n7J5vSDkACfqFNxuK5HNeKL+6nSyhrJ1oxltMHwdFMGM0wfYvqdknxuATljpRCJQEmh1g2nN8L0fcem2t6h86ib45CPw+w3L/0c/6iD8oyxZt4t5yzZT4lO0hCLMvXh4Xm6sY4YoAkFIghN1Cvm2v0Gq8USzWayIbZa2YuNnPPLqNkr9/oxXOlaxgyXrd7H473XcNHFwygKrZJ9bw6FmguF4RdASjjB8Ty0Xbn6TKVtqGLR/NyHlIzJxItx1pyH8k/T7iVWmUeYt38zkEcfmhdsvFaIIBCEJTqSDOlkEl0ncwWw8wXAkbu9iq/NGXUpAnBDMpilf7Jz7leJQcxiAxqDx/y9XfsjDr27jwRkjLZVMss+trqGJ8hIfR5rDjNjzD6O3z4c1HN9gCP/VJ4zisXEzGX/7dUyeeIqtMeebck8XiREIgg1yHdhdum5XByHlZTvr6Higvful8qkOQdTY85r54RPpWhbgqevGZLRxS31jkOfX7+L+Fz6kqSXc4e9WsZrYzwoS6hC0Zn/1Oyya8xAXflDN8fs/I6R8vH3CaZx223U0T5vOTt9RaX/OTsWSskViBIKQQ3Kdzme32Zld5ZNt3GH6qH4MO64bU37zJoDhOglr7li8AdCmaZzJ6gCitESMlcX6nfvTFq4vbPyM+5Z/gJWeMbO4TZXhyL6wdm1bwLfHxx/z3UCAmoEjefzsy3nppDO56zvjCWaRu5/PhYR2EEUgCB6RTLmka93nwjVxqDlMWcBPc7i9TbXfp0AroN0iT9ZwLZaAD2ad0Z9pD1envUpZ8M527n5uY9JjEt1pccpQhzn1s23s/cHjhHevxf/JJxAIwPnnw09+gu/SSxlW2oVuDU3c2rOC6tp9jLt/le1xminpfC4kTIUoAiHvybd8e6fJxLrPRdzB7BxGHUFCYNWk4ZrWdMjy8Sn485q6pHsjm1HfGOTeZZs7vB5QoHyK8oDf1OKu++Iwp+3exrnvv86UrTUMOLCHFp+fQ+dMpNtPfwqXXAJHt5d2VUFbumqqPZxjSaak87mQMBmiCARPSSXk8y3f3g3MrHu/TyW17nPhmrA6B2B53qgV/OqWvfx0yUYOx/hxAj4/JBQm21mlGOmjiuaE/XN8PsWKW86O38ZRa/jb32DhQkYsWsTTO3bQ7AtQPWgUvx73bV4feiYv3HspJLlesj2czeIP+ZT6mytEEQiekUrId/YvXaYrGTPL/FAwzMZdB5IGXXPhmrA6R7LzVlWWMXFoHyJL4s8V1pFWt1I7VquU2Lnq37PCdM+EuRcPNxrkaQ3vvmv4/Bcvhu3boaQE/wUX8N53/43vNvTli7JKAEr8iprafZbGQ7p7OHf27CArfF4PQChOYoX8wWCIIy0RZj+zgfrGYNsx0S9dLLFFQfnMknW7GHf/Kq56bDXj7l/F0nW7bL+3qrKMe6YN6/D6vOWb4+bH6r0jB/TISijFnqO+Mcj6nfsBkp43upooL/HRtSxAeYmPB2eM5MEZ8a+ZrVIS56qmdl/bubqU+SkN+Ljv0uFcyW64/XYYNAjOPBN+8xsYMQKefBL27IHlyxl42w841KVb27lbwrrDcxVLdA/nRG6aONj0Xt3e/8ItZEUgpMQJH72V++PVLXuZ2LqRutmXrjkczvsvXS5WMiP6dqdLqb8thx7ctzzTdctlspqwmquaOZNY9oOx7Pjrq5z+7sv0mPU92LkTSkvhwgth3jyYPh16xK+QzKqSk82b2TNWFlBcMca8W2hnzw6yQhSBkBSnfPRW7o+5SzfxkyUb267zwDdP5baF64h+ryOapEv9fMCOkktF/54VhLV5kNYNMlVmZsHSZAHUxLlSOsLoXR+y45qFHLtyGZMO7qPZH+CzcRM59r77DOHfvbvl9fv3rOBIKL7m4EjI2njIRLB35uwgK0QRCJakIwwy6S/TVj3qUxxqrRqNWsDR64wb3Au/z0eoVWlEl/r5HCewq+SSkVhd2xKOcM/UYTnv82OFW77w/j0rCIVDnF73AVO3VnPR1hr6tgr/1084nQcmXM3LJ42hpbIrNZe1F2clu8/EItlURbOZCPbOmh1khSgCwRK7wiDTVUNsxsncpZtM3SBAWkv9fMCukks1/umj+nHwSIh7l22mNOBj3vLNdC0PWM5tLldvjvvCIxF4+22qFi3i70//mYq9n9HsL+HNr5zBxhvnMDdyIrtV+/x0jfnMk91nXUMTFSUBDgbbU44qSgIpn5dCE+zpIsFiwRI7wsBO0DcZ0YwTKzdIOgIpGti0e20nmT6qHzVzJnHvxcPjevZA6oB39D5q9xxk3vLNNIciNAbDSec2m8/BbN7Mgr9Z+8IjEaiuhltvhYEDYfx4ePRRKs4aw8HH/petG2oZtfY1zrj7ZhpK4z/f6Gee6j4LNZjrNJ6sCJRSPwSuw6hUeR+4Vmt9xIuxCNbY8Z/mwoWQ6jp2fLj5Um+Q6LKYOLQPP1kSXyGbTDDF3kcwFMaXsEOY1dym+hxSNY0zm7dxg3sx/ztnkNWm9ZEIvPWWsZnLM8/Ap59CWRlcdBE88ABMmwbdutEViG3vZvWZr9+5P2Wn1EIM5jqN64pAKdUPuAUYprVuUkotBC4HnnR7LEJqkvlP6xuDHGhqoTmcvQWW7DqpfLj5Um9gJVTtCiaz+yCxXbLF3CazhK3GlWzeqmv3Za5YIxGoqTHy/BOF/8yZbcI/GVafuR2LvxCDuU7jVYwgAFQopVqAo4BPPRqHYAMz/2mscAlHIpT4rUv/s7mOnb/lQ5GPnc1dUgkms/so8yu0UpQl2z+X5FXBVuOymrdNnx5IP0mgWylV69e0C//du6G8HC66iIMXX8onZ06k7wB7GVOx92SWgWRHsRa7zz9dXFcEWutdSqlfADuAJuAlrfVLbo9DyBwzoVcWgEeuPI3hfbvb/gLmKsPFC79w4tjtbO6S6h7N7kP5FMtvGh/fVsECM4WTzJViNW+g7CUJrN3B4l//iSlbqjnug2pobDCE/5QphuU/dSpL/vGlYTB8spmWiL2MqShWz4dY/LnHC9dQT+AS4ARgP7BIKXWV1vqphONuAG4AGDjQvLhD8AYzoVfq99O9otT2l9KuT9+OsnDaL5w4BrOxjxvcK2tlZHUfg4/pmtY5Yu87mZK0ut7wvt2s7yUchupqjix4mrOeXsgljQ0cCZSy6sTRrBx+Nj/57zuoOraqbd4yddmlej6ctviLrdGhF66h84GPtdafAyilngXGAnGKQGs9H5gPxsY0bg+yGLH78GdrgdsVEOkEgNv31v0S0Azva110lA6JY7hn6jDmLd9sWgmbC2WUa2s3lZK0ul7se8KhFv7n+Eaq5txmuH327KG0vIJ1J5zB0pPGsuor/8Th0gq6lgX45xY/Va3XztRlV7vnIHcsWk9zuOMeCG4I5XxJPHATLxTBDuBMpdRRGK6h8wDZfsxj0nn4s7XA7QiIdK3J+sYgC1bvyHq/3MRzJo7h3uc3URow738U3dxl3c79jBrQIy1LPpZcW7uplIvZ9aafciznfLqRlj8t5OgXl+PbuwcqKmDqVJg5k4YJ53HLI+/G7ciVaAxkYjAsWbeLOxZvoDkhSO5GzKe+McimT79MqyV1oeBFjGC1Umox8HcgBLxHq+UveEMmS3g7mTxWf7MjIOxak+0KoLat6Cy6X+6PFq1n2HHdMhbIpmPw+zoIqVTZOfmALeUSCsEbbxgB32efpfvevXDUUW3CnylToEsX43ykTutN12CIPofNCS2hoeMeyrHvycXqKfrZ+VC2W1IXEp5kDWmt5wJzvbi20JFMl/BWwiVZumL0S5tKQNhRFkvW7WL24vUEQ+aew+awZspvq/nFjMwEsulGLVoz9+JhzFu2mRKfj+ZwmBvPHUzDoea8SGFNm6jwX7gQnn0WPv+8XfjPmmWkfLYK/0TsrIDScXUl2/pSac20h6vjlGuuFG+sIWRGMRSkSYuJPMHL4FQus26sVhcHj4SYt3xz3Je2Zs6kpO6KZMoieh0rJRClORTJWCBbjWH6qH5MHn5s20pk/hsf8dtV22wXf3lOKASvv95m+bcJ/2nT2i3/o45KeRq7gtiuqyvZ1pfRPZSjnyVYp8WmO99WCuioUj8RrYuiIE0UQR7gtUshl1k3Vp03731+U4fg37Kbxic9VzJr0s7G6VGyEcjJxvDfrxnuqDZXgs3iL08IheC119qF/759hqUfFf4XXWRL+Edxoogv8TkMhiMorQ0l0Epse45c1Y5YtaJ+9KrT00qH7syIIvCYTL9QuV5B5CpbxXR1EdatvvX2pnI6YrhtYgul0rEmrazHUr8ioonb4cqsP1K2nSbtFn8BrN+535s0xFAIXn3VEP5/+Uu78L/4YkP4T56clvCPxakivtjnsEupn2kPV8cp2NjPMlerWCtDaMKQPhnfR2dDFIHHZPKFcmoFkYtsFbMv1T3TDJ96LIaVp9sCg3csXp+WNZl4neZwmJsmnsQVYwZSU7vPtMJ2/c79bNx1oIOLKt25M1prNMcpNgCtFP/33a9REvDTv2cF1bX7GHf/KndXelHhv3ChIfzr69uF/6xZhvCvyH6V4mQRX+xzmG0PKrsUe5GasurVrZRaAfxAa/2JqyMyYfTo0XrNmsLMMK1vDDLu/lVxgaryEh81cyaZPozpHp/rsdr9oiQeu3TdrvYlf2sztcTg3O0XDOHm807KyZhiX4/2zQn4FI3BeOGd7twteGe70Rbab2SXaK0J+H0caYlQ5lcon2orMHPtc2ppibf86+uhsjLe8s+B8E8k9jN1UtEle+7yofArH8ZghVJqrdZ6dKrjkq0IngReUkr9HnhAa92Sq8EJ7aTrn/eqr066q5DE1UXikn/qb9/s8J6HX63lijEDs+5HE/t6qoyQaG+d7hWlKb/IC97Zzt3PGZ1Em1vb3ZcFfIRbm+7FBjTnf2e0o59TfUMjB5a/SN+VyyhfthS++MIQ/tOnG8L/6193RPjH4pYVnWyl6nSFcSq8ju/lCktFoLVeqJRaDvwUWKOU+iO0P9Va64dcGF9RkM4Xyqu+OrkIDMZ+aW+aeBK/XPlh3N9L/bkRlLEWWqqg8pFQmOv/sCZlEVp9Y5B7n9/U4XWfAr/fT0skflMd0Ln/nFpa4JVX2P7ok3R/aQUnNh2ksbSCuvMn0/+GawzhX16e+fkzwGtB7CX50vU2F6SKEbQAh4AyoCvYSNEQMsLuF8rpvjpmOLEKuWLMQB6OKQKD3Cg0s5YQZkHlLqV+QhFNOBIhGG4vQrP6Itc1NHUIeAOEI6BUR4E/vG/33HxOrcKfhQvhueegoYGq0gpWDh7D8qFn8+YJp6Eqyqk5bxJV5bl9BoxK2wNktR9BAZMPXW9zhaUiUEpNBh4ClgKna60PuzaqPCPffIC5XJLbuTcnViFVlWU8OCMhqDx1WFtqYCb3ZNajZt7yzW3B6tjg9Yi+3TnQ1MKNC/4et62h1RfZbDN5gLnTh9G1LGAq8DP+nJqbDeG/aFGb8KdbN3aefT73VQzn1eNPIxgobTu8qwPCZ8m6Xfxo0XpaWjN2Aj54aNaoTun2cIpC2g0t2YrgbmCm1rrjeriIyFcfYC6W5OkUBDmxCokVlNlm8yTrUTOib3fT4rX6xqDtL3LsHEQ3k5978XCuHHM8gKXAt/05NTfDyy+3C//9+43NWy65BGbOpH7sOVzwqxrTWEeuhU99Y5DZize0KQGAUCT9zK5Cx4vVuVMkixGc7eZA8pFsfID5topIJN17Swz2HmoOU98YzEm6KcC35r+dsa81WY+a2JbL6VYvJ5LMws9IMTc3w8qVhvBfssQQ/t27twl/LriA+hbDBXGg/ohprKM0kIO9hBOoa2jCn1AlDeBXndPt4SSFknYqdQRJyNQH6OaVVwoJAAAbSUlEQVQqIlOFk8m9VVWWZbeFYRZjSXafVgHhUr9KKSRTbcWZ+LqZwE/rMwgG44X/gQPtwn/WLDj/fGNbR+Kfo+ZwmEiCZ6rUr1hx8/iMm+pZ0b9nBeHEiwFh3TndHk5TCAHzolYEqb7AmfgA3cwkyEbheHVvZnOeaiyp7rNLqZ9guKOlbFdImn2R7c6t1SY1cfcYFf4LF8LSpe3C/9JLDcs/RvjHzlPiXAd8RrpqaUzlcq6VQHQ+HpxxKrcnxAgenDGy0ws8wZyiVQR2vuiZ+ADdyiQw/LhG583ote5YvIEeR5XayvDw4t6s5jzZWFIpn+g5VWsgt7zE2CsgGyFpV+GZHXf7ovX4FHTRYcbUruWuQxsZ8OZK+PJL6NEDLrusXfiXlppeH8znuqIkwCNXnk73ihLH3RDtG/1I1lAxUJSKIB3LNl0foFuZBAtW7+jQeTMYivD9P64lgra1OnDz3lLNudVYkikfoEOxWCSiWXHL2VlZyqmuaVWjUBZq5uxt7zFlazXnb1tNt+bD7C+v5MiMb1B+xeVw3nlJhX8sVnPtpkCuqiwrqn47xUxRKoJ0Ldt0fIBuZBLUNwZ55NVa078dbjHy3O26bNy6NztzbjaWZMrHtPFbwAhkZ4PVNTfuOsC35r8dl+6qmo9wwbY1TNlSzfm1q+na3MT+8kpeOHksy4eezYYhp/Pk98YzckAPwH48oZAyUoT8pygVgdNWu9OZBHUNTZT6fR12UorFqcKWTO8t0zlPJRCbWkJxxze1hLL+HM2uGa1FONISQYeOMOHjv9PtLw+w9uM1lBxu5EB5JS9+9WxWnDyONwaOJOQ3vlrlymc71pGIk89Rvme1Ce5SlIrADWvLyUyCZBt4RHGysCWTe8tmzpMJRKUUoBN+z57Ea+7a3cDXP3yHiRtf57zadw3Lv6IrX15yGSXfmsUnp45hYp9ulNbu461nNlCRZqzDCieeo3ytjRG8oygVAXTu/F8zoTp95HE8996nlPh9hPN0V6Vs5txMINY1NFEe8NMSbl8VlAf8tldCqaziKn+EqjVGV8+jn3+eXzc28kVFN5YNPZsVQ8fz3ldG8fpdF9KtsoyRKe4xX9oRFFJ/HCF3FK0igM6d/2tWlVsaMDZWn3vxsLy18HI559m4+Cyt4qYm+OtfjTz/ZcugsRGqqlCXX87v+/0T8w4d0+b2udqiU2q6sQ43yReFJOQXPq8HIGROVWUZ/XtWMG+54btuDIZpDkWYt2wz9Y3BtM9X3xhk/c79Gb3XC6Iro/ISH13LApSX2KuyjbWKDwZD6MNNrLzvdwRnzILeveGb3zTy/r/9bXjpJdi9m/r/9zA/Cw9oUwIAC9fU2Z6rTMeaa/JFIXlFZ3vG3aKoVwT5QLZBu1xZeJ3Bb1y75yDrdu5n1IAebemhmbib6hqa6Bpu5tytq5m6pZpJ//gbXVqOEDq6Cq680sjzP/dcCLR/Peo+25/1POeDO9LtbKR8Ckp3hmfcK0QReEguHsxcWHhu+I3t7CSW7Fo/fe59/vDOjrbfrz5rIP9xySlAGu6mw4dhxQqGPv1nXnt+GV1ajrDvqO48N/xcVg6fwC8fvoWqHl1M35orSzof3JFuKaR8ErwSG0mOKAKPyOVmL9laeE77ja0Egl1BUbvnYJwSAPjD2zu4+sxBqQvHDh2CFSsMn//y5XD4MGW9e7N7+gx+UD6M9SeM5AitPYkslAAUXl5/rEJywmrPN8ErsZHkiCLwiFw+mNlaeE76ja0EwrDjuqUUFFEB9d6OL0zPvW7nfnNFEBX+Cxca/x8+DH36wNVXG26fCRMYFAjwUJoCMB9cO7nGKas93wRvscdGUiGKwCNy/WBm43Jw0tq1Egjrdib3uccKqOjuYYmMaq3WBQzhv3x5u+Xf1GQI/2uuaRP++P0d7juTeohCUADgrNWeb4K30FZ0uUYUgUOkzFHPswfTKWvXSiCMGtDDUlCYCaj4sjEjRjC4i4I//9kQ/itWGML/mGPg2ms5MO0SPvnqGfTvVWn7Xopta0YnrfZ8e76hMFd0uUIUgQPYXW7n24PphLVrJRAGH9PVUlCsN1ktVJYF+Nk3TqHlwJec9cHbHPuHJ+Dbf40T/syaBePHs+T9z4z5f2eNbXdHMW7N2NlbrWRCIa3oconSJvuw5hujR4/Wa9as8XoYtqhvDDLu/lVxHTHLS3zUzJlU1A9gOllDiXN4VHMTkz9Zw8/CWyl76QU4cgSOPdbI9585E8aPb3P7ZDL/9Y1Bxv58VYfeTWUBxVt3nlewn1t9Y5D/W72Dh1+tjdvjoJCVX7GhlFqrtR6d6jhZEeSYfAuS5QtWlpjZ61WVZfxy8oms+sUTXLSlmvG1aygPNcNxx8F11xnCf9y4Dj5/yGz+jZbeHXs3FfLWjLGrVtDcMOFErrColBYKH1EEOSbfgmTJyFXaYM7SDw8ehOefh0WLmPrCC0w9coSWPscSuu46uOJyGDvWVPjHku78Gy29t5n+rVC3ZjSLwTzyWi1XjBno8cgErxBF0EquhFk+BsnMyFXaYNbn+fLLNuHPCy8Y2zr27QvXXw+zZlEydmyr1WqPdOffaOnt75CZ5FfWWzPmU7VsJsiqVUhEFAGZCbNkwiAfg2Sx5CptMOPzWAn/733PcPuMHQtpCP9E0pl/sxVEiQ/+eusE0xqFfKqWzZTOtGoV3KHoFUEmwszufsf52r8lVxZhWuc5cKBd+L/4oiH8+/WD73/fEP5nnZWV8E/E7vwny2pKJN+qZTOls6xaBfcoekWQrlD0WhjkS3+i6Hmaw0nOc+AALF3aLvybm6F/f/jXfzWE/5ln5lT4Z4rdFUQhuVTyfdUquEvRK4J0haKZMPCh2PTpl0wY0tv0PbkMyuZLfyKA6tp9hGPmrsSveOjC46l6trXI66WX2oX/D35g5PmPGZMXwj8ROyuIQnOpSE69EKXoFUEyoRgV4F1KjQ3R+/esMBUGh1vCXP+HNTw4o6N1nkufcj71J1rzcT23L1pPKALdjjRyfu1qpm2tYeKD70FLCwwYADfeaFj+Dgp/NwO34lIRChVPCsqUUj2Ax4ARGJ0D/kVr/bbV8W4UlCUKlKgA1xFNMKwpLzEE2QPfPBWAOxavJxiKn7vEwqVcF5flS7HaT597n+de28wF21YzZWs1Z3/8HqWRELu79cb/rVn0+Zer4Gtfc1z4R3dmcztw29mzhoTiId8Lyn4NvKC1nqGUKgWO8mgcbSS25Y26YKJEf579zAZq5kzif64ezfef+juHm8NtxyRa57n2KUct0jsWb8DvU4QjLu9N3NDAx48t4NxHf89PPllHaSREXbfePHnGxawYOp4tA4dSc+d54OB4ograrxSHWufe7ViNuFSEQsN1RaCU6gZMAP4ZQGvdDDS7PY5kmAnwKH6lqGtoYnjf7kQSVlOJ/mInfMo6+q9ObMPmEA0N8NxzsGgRkZUvc0KohZJufXjyjItZPnQ8648bAkoR8Csessi7zxVmCjqWzhq4FQSv8WJFcCLwOfC/SqmRwFrgVq31IQ/GYoqZAI9yqDnMxk8PMHJAj5T+4nR8ynbcDVFBaLikDGv4jsXrc28Ff/EFLFliBHxXroRQiPDAgTw5ejpLTxrbJvxj+dN1Yxh9QlXGl7Rz/8kUNHTuwK0geIkXiiAAnA7crLVerZT6NXAncE/sQUqpG4AbAAYOdLf0PVaAR8IRmhPkzrxlm5k8/FhbAVc7x9gNKJsJwmBI83+rd3DzeSfZvj9TofvFF22WPy+/DKEQDBoEP/whzJzJxmMG86vH3+VgsOPeAFefNTArJWD3/q0UdJcyv/tuMkEoIFwPFiuljgXe0VoPav39bOBOrfVUq/d41X20vjHIq1v2MnfppjZ/NEDXsgBPXTeGkbEbo2RxjVQB4Njspam/fbNDkLos4OOtO+0FjGOFbpfG/TxauZNRq1+GV14xhP8JJxiZPjNnwhlntFn+ZuMM+OBP15+Z9UognQD40nW74lZY90wdxoh+3V0N3EqwWOgs5G2wWGv9mVJqp1LqZK31VuA8YLPb47BDVWUZE4f24e7n3o97PZcuiFQB5URr+fyhx7B842dx5wiGIjz25kdMHnGcZZvnLqV+Pj3QxH/94U0u+eAtpm6p5qwdGyiJhAkPGoT/ttuMPP/TT+/g9onOhZmbKxslYOf+E/G6EKoQWkwIQiJeZQ3dDCxozRj6CLjWi0HYseyqa/cRiTHA/YqcuiCSBZTNCshe3rKXUr+iORy/Kvjd6x/xx3e2E2p1kcRuDt/j8AHO3VTDtA9rqPlkPQEdYXuPY3nsny7jtVPO4a57rmTkwJ4px+qEEM4koO5V1o7XVeWC4BSeKAKt9Tog5XLFSexYdtEvfkuM0A1rTP3kmZIsoGy2U1ep38f0kX1Z8O6ODudqDBruq9nPbGBEaQtr7v5/zN/8JmO3G8L/kx7HMX/MN1h+8ng2HfMVUIryEh/9jzbP3jVTlLkWwp2lSCvqJvQnrJYkU0koBIqystiuZVfX0NThiw9w7/NGsDhXX34rS9vKWr523CAWrd1BTNgCgKMPH+DrH77N9A9rGPSzDcwLh9uF/9Cz2dTnxDa3z1ElfiJYB1jddIF47e5JRXQuAj4VFysCyVQSCoOiVAR2/dL9e1bQEu6YpVLiVymtwHQDilY7dVl1xrx50hB+ufJDjj58gMkfvsWULdWcueN9w/Lv2Zf9N/4b3z08iPeOHtTB518W8PHod86w3KDdCxdIvhZpWdUudCn1E9aSqSQUBkWpCOz6pasqy5h78XDufm5j3OvhiG7z4ZsJ+1xa06bW8t69XLvxRUb/+TG+tv19/DrCRz378uiZM1g57Gy+e+OlTD+tP9eu28XGmA3Zwcj0eXDGqZYN8iA3FdGFklljNhddyvzce/FwJg7t06nvTRCiFKUiSOWXjhViV555PCjDHVTib2/rUF27z1TYO2FNV1WWUXX4ADz1JyPP/7XXqIxEOOX4E5k/diYvDz+Hjb0GctOkITwRs+/suMG98CV4tvw+H+MG90p6vWwrogsps8ZsLsIRLUpAKCiKUhGAtV/aTIhdOeZ4Jg8/tu1YoC33PVHY57S/0J498OyzhvB//XWIRGDIEPjxj2HWLCpPOYVZh5oZa2F5m23DWOpPPZZsAriFllnTWYLZgpANRasIoKNfOpUQix5rls0TFfZZ9xf67LN24f/GG4bwP/lkuOsuo8jrlFNAKWPVUneA/j0rLAvbshlLpgFcM0UY7c/UWYVnvgezBSFbiloRJGLXmu9S6icYMs8eyciC/OwzeOaZduGvNQwdCnffbQj/ESPiAr6xWSzNYc3ci4dx5ZjjO5w2W2s2kwCumfKJ7c/UWcnXYLYg5AJRBDHYsaCjQtjnUxDWlPkVyqfiBKwtC9JM+H/1q3DPPYbwHz7ctMLXLIvl7r9sBI0Rz0jAbWu2qrKMe6YO6xBgj/ZnEmEqCPmHKIIY7ASRE4WwVorlN43vsNm5qQW5e3e78H/zzXjhP2uWIfxTUNfQRCAxAgzc+/wmJo8wF7RuW7Mj+nWnsszfVuAGUnglCPmMKIIEklnQZq6jMr+vQ5FRHJ9+2i78q6sN4T9sGPz0p+2WfxoYG8Z3bBRYYiMI7Bb9e1YQiiTfq0EQhPxBFIEJVha07eDrrl3twr+mxhD+w4fD3LmG8B82LKuxzb14mOEOiiGsdd4IWsm0EYTOhSiCNEgq4MyE/4gR8O//bgj/r341Z+O4cszxoA13UInfl5cVrpJpIwidB082r08Xr/YjsCJacDaw6Qt6/vX5duEPhvCP9vPPofBPNg4RtIIgmJG3+xF0eurqqFq8mKpFi+Ctt4zXTjkF/uM/DOE/dKgjl3WjE6ggCMVJUSsC2xb1zp2weLFh+b/9tvHaqafCvHmG8D/5ZEfHmauWDbKCEATBjKJVBEvW7WL24g34fUb/oAdnJAhXM+E/ciT8538awn/IEFfGmara2a5wL6T+P4Ig5JaiVAT1jUF+lNCV8/ZF6zm77HC7z/+dd4w/eCD8Y0lW7WzV+C6RQuv/IwhCbilKRbDp0wNtSqDfgb1ctLWaqVtq6PlfW40DRo2C++4zhP9JJ3k4UuuU1S6lftvCPaeN8ARBKDgKXhGYuU7KdtVx/epnmbq1mlG7PwRg4zFf4ePb7uaEf/1nGDzYwxHHY5Wyeqg5bFu4Z90ITxCEgqagFUGsX7zPF7v5Tck/GF7zEmPefZcxwPvHfIX7z7mGFSePY1dVX1bfdT7koYVslpNf3xi0LdylwEsQhGQUrCKobwzym8dXcvXGN5iytZpRu7cBEBp1GoGf/YyXh5/NjasP4Fc+wjrCQzNG5rVgTEwVTVe4S4GXIAhWFGxB2fqd+6m95HK++d6LbDh2MCtOHs/rp0zg57Mva2uH3NnSKc3G29nuQRAE9yj6grL+PSv40Vmz+NXXZrKzx7EAlJf44lwnbhZkZSuwrdI/pahMEIRs8Xk9AKeoqizj5uu/zue9+9K1LEB5ic8zv/iSdbsYd/8qrnpsNePuX8XSdbvSen9s+ufBYIgjLRFmP7OB+sagQyMWBKGYKNgVAeSHXzwXOfyS/ikIgpMUtCIA7/vx5EKIS/qnIAhOUrCuoXwhF0I8miFUXuJL6uaqbwyyfud+cRkJgpAWBb8i8Jpc5fCncnNJLyFBEDJFFIEL5CpWYeXmkl5CgiBkgygCl3AyViHBZEEQskFiBAWABJMFQcgGUQQFgN1gsiAIghniGioQ8qFmQhCEzokoggIimziE9CwShOJFFIEgqaeCUORIjKDIkT5GgiCIIihyoqmnsURTTwVBKA48UwRKKb9S6j2l1DKvxiBI6qkgCN6uCG4FPvDw+gKSeioIgkfBYqVUf2AqcB9wmxdjENqR1FNBKG68yhr6FTAb6OrGxZxOjXTy/G6ldXrdrlsQBO9wXREopaYBe7XWa5VS5yY57gbgBoCBAwdmfD2nUyOdPL+kdQqC4AZexAjGAdOVUp8AfwImKaWeSjxIaz1faz1aaz26d+/eGV3I6dRIJ88vaZ2CILiF64pAa/1jrXV/rfUg4HJgldb6KieulW5qZLobuziZeilpnYIguEVBVxankxqZiRvGydRLSesUBMEtPC0o01q/prWe5tT509niMRM3jJOpl5LWKQiCWxT0igDspUZms7GLk6mXktYpCIIbFLwigNSpkdm6YZxMvfQirVM6kQpCcVEUiiAVudpgvhCQlFVBKD5EEbQibpj4WEnUTTb7mQ2MG9yrKOdDEIoFUQQxFHt1bTaxEkEQOi/ShlpoQ1JWBaE4EUUgtCEpq4JQnIhrSIhDYiWCUHyIIhA6UOyxEkEoNsQ1JAiCUOSIIhAEQShyRBEUAel2VRUEobiQGEGBI5XCgiCkQlYEBYxsbiMIgh1EERQwsrmNIAh2EEVQwEilsCAIdhBFUMBIpbAgCHaQYHGBI5XCgiCkQhRBESCVwoIgJENcQ4IgCEWOKAJBEIQiRxSBIAhCkSOKQBAEocgRRSAIglDkKK2112NIiVLqc2B7hm/vBezL4XA6A3LPxYHcc3GQzT0fr7XuneqgTqEIskEptUZrPdrrcbiJ3HNxIPdcHLhxz+IaEgRBKHJEEQiCIBQ5xaAI5ns9AA+Qey4O5J6LA8fvueBjBIIgCEJyimFFIAiCICShoBWBUmqyUmqrUqpWKXWn1+NxGqXUAKXUq0qpD5RSm5RSt3o9JjdQSvmVUu8ppZZ5PRY3UEr1UEotVkptaf2sz/J6TE6jlPph6zO9USn1tFKq3Osx5Rql1BNKqb1KqY0xrx2tlFqplNrW+n9PJ65dsIpAKeUHHgEuAoYB31ZKDfN2VI4TAm7XWn8VOBO4sQjuGeBW4AOvB+EivwZe0FoPBUZS4PeulOoH3AKM1lqPAPzA5d6OyhGeBCYnvHYn8IrW+iTgldbfc07BKgLga0Ct1vojrXUz8CfgEo/H5Cha691a67+3/nwQQ0AU9E71Sqn+wFTgMa/H4gZKqW7ABOBxAK11s9Z6v7ejcoUAUKGUCgBHAZ96PJ6co7V+A/gi4eVLgN+3/vx74FInrl3IiqAfsDPm9zoKXCjGopQaBJwGrPZ2JI7zK2A2EEl1YIFwIvA58L+t7rDHlFJdvB6Uk2itdwG/AHYAu4EDWuuXvB2Vaxyjtd4NhqEH9HHiIoWsCJTJa0WRIqWUqgSeAf5Na/2l1+NxCqXUNGCv1nqt12NxkQBwOvA7rfVpwCEcchfkC61+8UuAE4C+QBel1FXejqqwKGRFUAcMiPm9PwW4nExEKVWCoQQWaK2f9Xo8DjMOmK6U+gTD9TdJKfWUt0NynDqgTmsdXektxlAMhcz5wMda68+11i3As8BYj8fkFnuUUscBtP6/14mLFLIi+BtwklLqBKVUKUZwaanHY3IUpZTC8B1/oLV+yOvxOI3W+sda6/5a60EYn+8qrXVBW4pa68+AnUqpk1tfOg/Y7OGQ3GAHcKZS6qjWZ/w8CjxAHsNS4JrWn68BljhxkYLds1hrHVJK3QS8iJFl8ITWepPHw3KaccB3gPeVUutaX7tLa73CwzEJuedmYEGrgfMRcK3H43EUrfVqpdRi4O8YmXHvUYAVxkqpp4FzgV5KqTpgLvBzYKFS6rsYCnGmI9eWymJBEITippBdQ4IgCIINRBEIgiAUOaIIBEEQihxRBIIgCEWOKAJBEIQiRxSBULS0dmv9WCl1dOvvPVt/P97k2LBSal1rB8z1SqnblFJJvz9KqUFKqSucGr8g5ApRBELRorXeCfwOI1eb1v/na623mxzepLUepbUeDlwATMHI807GIEAUgZD3SB2BUNS0tuRYCzwBXA+c1tqtNvG4Rq11ZczvJ2JUr/cCjgf+CESbv92ktX5LKfUO8FXgY4zOkX8xO86RGxOENBBFIBQ9SqmvAy8AF2qtV1ocE6cIWl9rAIYCB4GI1vqIUuok4Gmt9Wil1LnAj7TW01qPP8rsOOfuTBDsUbAtJgQhDS7CaG88AjBVBBZEO9yWAA8rpUYBYWCIxfF2jxMEVxFFIBQ1rUL5Aowd3aqVUn+K9n9P8b4TMYT5XoxYwR6M3cJ8wBGLt/3Q5nGC4CoSLBaKltZOlr/D2LdhB/AgxgYoqd7XG3gUeFgbvtXuwG6tdQSj6Z+/9dCDQNeYt1odJwieIopAKGauB3bExAX+GxiqlDrH5NiKaPoo8DLwEnBvzPuuaQ0OD8HYLAZgAxBqTTf9YZLjBMFTJFgsCIJQ5MiKQBAEocgRRSAIglDkiCIQBEEockQRCIIgFDmiCARBEIocUQSCIAhFjigCQRCEIkcUgSAIQpHz/wGXMft/OfVq1gAAAABJRU5ErkJggg==\n",
      "text/plain": [
       "<Figure size 432x288 with 1 Axes>"
      ]
     },
     "metadata": {},
     "output_type": "display_data"
    }
   ],
   "source": [
    "y_hat = model_m * x_data + model_b\n",
    "my_data.sample(n=250).plot(kind= 'scatter', x='X Data', y='Y')\n",
   