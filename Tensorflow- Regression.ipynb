{
 "cells": [
  {
   "cell_type": "markdown",
   "metadata": {},
   "source": [
    "# Tensorflow Regression"
   ]
  },
  {
   "cell_type": "code",
   "execution_count": 1,
   "metadata": {},
   "outputs": [],
   "source": [
    "import numpy as np\n",
    "import pandas as pd\n",
    "import matplotlib.pyplot as plt\n",
    "%matplotlib inline"
   ]
  },
  {
   "cell_type": "code",
   "execution_count": 2,
   "metadata": {},
   "outputs": [],
   "source": [
    "import tensorflow as tf"
   ]
  },
  {
   "cell_type": "code",
   "execution_count": 3,
   "metadata": {},
   "outputs": [],
   "source": [
    "x_data = np.linspace(0.0, 10.0, 1000000)"
   ]
  },
  {
   "cell_type": "code",
   "execution_count": 4,
   "metadata": {},
   "outputs": [],
   "source": [
    "noise = np.random.randn(len(x_data))"
   ]
  },
  {
   "cell_type": "code",
   "execution_count": 5,
   "metadata": {},
   "outputs": [
    {
     "data": {
      "text/plain": [
       "array([ 0.59938905, -0.01890762, -0.7993285 , ..., -1.39709433,\n",
       "       -0.66132347, -0.21255759])"
      ]
     },
     "execution_count": 5,
     "metadata": {},
     "output_type": "execute_result"
    }
   ],
   "source": [
    "noise"
   ]
  },
  {
   "cell_type": "code",
   "execution_count": 6,
   "metadata": {},
   "outputs": [],
   "source": [
    "y_true = (0.5* x_data)+ 5 + noise"
   ]
  },
  {
   "cell_type": "code",
   "execution_count": 7,
   "metadata": {},
   "outputs": [],
   "source": [
    "x_df = pd.DataFrame(data= x_data, columns=['X Data'])"
   ]
  },
  {
   "cell_type": "code",
   "execution_count": 8,
   "metadata": {},
   "outputs": [],
   "source": [
    "y_df = pd.DataFrame(data= y_true, columns=['Y'])"
   ]
  },
  {
   "cell_type": "code",
   "execution_count": 9,
   "metadata": {},
   "outputs": [],
   "source": [
    "my_data = pd.concat([x_df, y_df], axis=1 )"
   ]
  },
  {
   "cell_type": "code",
   "execution_count": 10,
   "metadata": {},
   "outputs": [
    {
     "data": {
      "text/html": [
       "<div>\n",
       "<style scoped>\n",
       "    .dataframe tbody tr th:only-of-type {\n",
       "        vertical-align: middle;\n",
       "    }\n",
       "\n",
       "    .dataframe tbody tr th {\n",
       "        vertical-align: top;\n",
       "    }\n",
       "\n",
       "    .dataframe thead th {\n",
       "        text-align: right;\n",
       "    }\n",
       "</style>\n",
       "<table border=\"1\" class=\"dataframe\">\n",
       "  <thead>\n",
       "    <tr style=\"text-align: right;\">\n",
       "      <th></th>\n",
       "      <th>X Data</th>\n",
       "      <th>Y</th>\n",
       "    </tr>\n",
       "  </thead>\n",
       "  <tbody>\n",
       "    <tr>\n",
       "      <th>0</th>\n",
       "      <td>0.00000</td>\n",
       "      <td>5.599389</td>\n",
       "    </tr>\n",
       "    <tr>\n",
       "      <th>1</th>\n",
       "      <td>0.00001</td>\n",
       "      <td>4.981097</td>\n",
       "    </tr>\n",
       "    <tr>\n",
       "      <th>2</th>\n",
       "      <td>0.00002</td>\n",
       "      <td>4.200681</td>\n",
       "    </tr>\n",
       "    <tr>\n",
       "      <th>3</th>\n",
       "      <td>0.00003</td>\n",
       "      <td>5.893396</td>\n",
       "    </tr>\n",
       "    <tr>\n",
       "      <th>4</th>\n",
       "      <td>0.00004</td>\n",
       "      <td>4.495462</td>\n",
       "    </tr>\n",
       "  </tbody>\n",
       "</table>\n",
       "</div>"
      ],
      "text/plain": [
       "    X Data         Y\n",
       "0  0.00000  5.599389\n",
       "1  0.00001  4.981097\n",
       "2  0.00002  4.200681\n",
       "3  0.00003  5.893396\n",
       "4  0.00004  4.495462"
      ]
     },
     "execution_count": 10,
     "metadata": {},
     "output_type": "execute_result"
    }
   ],
   "source": [
    "my_data.head()"
   ]
  },
  {
   "cell_type": "code",
   "execution_count": 11,
   "metadata": {},
   "outputs": [
    {
     "data": {
      "text/plain": [
       "<matplotlib.axes._subplots.AxesSubplot at 0x29966d6cef0>"
      ]
     },
     "execution_count": 11,
     "metadata": {},
     "output_type": "execute_result"
    },
    {
     "data": {
      "image/png": "iVBORw0KGgoAAAANSUhEUgAAAYIAAAEKCAYAAAAfGVI8AAAABHNCSVQICAgIfAhkiAAAAAlwSFlzAAALEgAACxIB0t1+/AAAADl0RVh0U29mdHdhcmUAbWF0cGxvdGxpYiB2ZXJzaW9uIDIuMi4yLCBodHRwOi8vbWF0cGxvdGxpYi5vcmcvhp/UCwAAIABJREFUeJztnX+UnHV979+fmdmdLPlFTAKaLEvKWVCzOSboHiOm5ULQFiXE24pUAfW2StpziXJthdjriVzMqVfAy9Feop4tUkGRFoM0NLEWK+FSuDR1o5s0CVr2oia7sQS2IWTDZnZ35nP/mJndmWee3/P8mnner3M4ZGefeb7f7zM7n8/n+/n1FVUFIYSQ9JKJewKEEELihYqAEEJSDhUBIYSkHCoCQghJOVQEhBCScqgICCEk5VAREEJIyqEiIISQlENFQAghKScX9wTcsGTJEl2xYkXc0yCEkJZi3759L6vqUqfrWkIRrFixAoODg3FPgxBCWgoR+ZWb6+gaIoSQlENFQAghKYeKgBBCUg4VASGEpBwqAkIISTlUBIQQknKoCAghrhkbL2D/0VcwNl6IeyqBEeeakvI8W6KOgBASPzuHRrHlkQPoyGQwVSrhzve/BRvXLI97Wk0RxprGxgsYOTGB7kVdWDwvH+nYfuGOgBDiyNh4AVseOYAzUyWcKkzjzFQJtz5yIHZLthnCWNPOoVGsu+MJ3HDvXqy74wk8NjQa2djNQEVACHFk5MQEOjL14qIjk8HIiYmYZtQ8Qa/Ji3A/dOwkMiKBjd0soSkCEblPRI6LyMGa1z4gIodEpCQi/WGNTQgJlu5FXZgqlepemyqV0L2oK6YZNU/Qa3KrWHYOjeLGBwbx2mQxsLGbJcwdwTcBXGl47SCA3wPwVIjjEkICZvG8PO58/1swpyOD+fkc5nRkcOf732LrA086Qa/JjWKp7hoK01p3XT4X7/MMLVisqk+JyArDa88BgBi2RISQ5LNxzXKs613iKhDaKgS5pqpiudUQAK69Z3XXcAazCuOsjiy+/uG34dKLHJuEhkZis4ZEZBOATQDQ09MT82wIIUBZ2LWDAqglyDU5KRazXUMJir5lCwIZ3y+JDRar6oCq9qtq/9Kl8WlKQgipxSn3f/G8PFafd7apckmqiy2xOwJCCEkaQeT+J9HFltgdASGEJAmz9NBP7ziA4RdPeb5XddcAIBGVxWGmjz4E4FkAbxSRERH5mIj8roiMALgEwG4R+YewxieEkCAxSw+dnC7hvX/xT5aFY3Y4FZ9F2X4izKyhD1n86tGwxiSEkCCpbRdhFugFgMmi4tZHDmBd7xLXbp7a3UU1g6j2HlG3n2CMgBBCDIyNF/Dg3iPYvud5