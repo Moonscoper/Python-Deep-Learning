{
 "cells": [
  {
   "cell_type": "markdown",
   "metadata": {},
   "source": [
    "# Tensorflow Regression"
   ]
  },
  {
   "cell_type": "code",
   "execution_count": 1,
   "metadata": {},
   "outputs": [],
   "source": [
    "import numpy as np\n",
    "import pandas as pd\n",
    "import matplotlib.pyplot as plt\n",
    "%matplotlib inline"
   ]
  },
  {
   "cell_type": "code",
   "execution_count": 2,
   "metadata": {},
   "outputs": [],
   "source": [
    "import tensorflow as tf"
   ]
  },
  {
   "cell_type": "code",
   "execution_count": 3,
   "metadata": {},
   "outputs": [],
   "source": [
    "x_data = np.linspace(0.0, 10.0, 1000000)"
   ]
  },
  {
   "cell_type": "code",
   "execution_count": 4,
   "metadata": {},
   "outputs": [],
   "source": [
    "noise = np.random.randn(len(x_data))"
   ]
  },
  {
   "cell_type": "code",
   "execution_count": 5,
   "metadata": {},
   "outputs": [
    {
     "data": {
      "text/plain": [
       "array([ 0.59938905, -0.01890762, -0.7993285 , ..., -1.39709433,\n",
       "       -0.66132347, -0.21255759])"
      ]
     },
     "execution_count": 5,
     "metadata": {},
     "output_type": "execute_result"
    }
   ],
   "source": [
    "noise"
   ]
  },
  {
   "cell_type": "code",
   "execution_count": 6,
   "metadata": {},
   "outputs": [],
   "source": [
    "y_true = (0.5* x_data)+ 5 + noise"
   ]
  },
  {
   "cell_type": "code",
   "execution_count": 7,
   "metadata": {},
   "outputs": [],
   "source": [
    "x_df = pd.DataFrame(data= x_data, columns=['X Data'])"
   ]
  },
  {
   "cell_type": "code",
   "execution_count": 8,
   "metadata": {},
   "outputs": [],
   "source": [
    "y_df = pd.DataFrame(data= y_true, columns=['Y'])"
   ]
  },
  {
   "cell_type": "code",
   "execution_count": 9,
   "metadata": {},
   "outputs": [],
   "source": [
    "my_data = pd.concat([x_df, y_df], axis=1 )"
   ]
  },
  {
   "cell_type": "code",
   "execution_count": 10,
   "metadata": {},
   "outputs": [
    {
     "data": {
      "text/html": [
       "<div>\n",
       "<style scoped>\n",
       "    .dataframe tbody tr th:only-of-type {\n",
       "        vertical-align: middle;\n",
       "    }\n",
       "\n",
       "    .dataframe tbody tr th {\n",
       "        vertical-align: top;\n",
       "    }\n",
       "\n",
       "    .dataframe thead th {\n",
       "        text-align: right;\n",
       "    }\n",
       "</style>\n",
       "<table border=\"1\" class=\"dataframe\">\n",
       "  <thead>\n",
       "    <tr style=\"text-align: right;\">\n",
       "      <th></th>\n",
       "      <th>X Data</th>\n",
       "      <th>Y</th>\n",
       "    </tr>\n",
       "  </thead>\n",
       "  <tbody>\n",
       "    <tr>\n",
       "      <th>0</th>\n",
       "      <td>0.00000</td>\n",
       "      <td>5.599389</td>\n",
       "    </tr>\n",
       "    <tr>\n",
       "      <th>1</th>\n",
       "      <td>0.00001</td>\n",
       "      <td>4.981097</td>\n",
       "    </tr>\n",
       "    <tr>\n",
       "      <th>2</th>\n",
       "      <td>0.00002</td>\n",
       "      <td>4.200681</td>\n",
       "    </tr>\n",
       "    <tr>\n",
       "      <th>3</th>\n",
       "      <td>0.00003</td>\n",
       "      <td>5.893396</td>\n",
       "    </tr>\n",
       "    <tr>\n",
       "      <th>4</th>\n",
       "      <td>0.00004</td>\n",
       "      <td>4.495462</td>\n",
       "    </tr>\n",
       "  </tbody>\n",
       "</table>\n",
       "</div>"
      ],
      "text/plain": [
       "    X Data         Y\n",
       "0  0.00000  5.599389\n",
       "1  0.00001  4.981097\n",
       "2  0.00002  4.200681\n",
       "3  0.00003  5.893396\n",
       "4  0.00004  4.495462"
      ]
     },
     "execution_count": 10,
     "metadata": {},
     "output_type": "execute_result"
    }
   ],
   "source": [
    "my_data.head()"
   ]
  },
  {
   "cell_type": "code",
   "execution_count": 11,
   "metadata": {},
   "outputs": [
    {
     "data": {
      "text/plain": [
       "<matplotlib.axes._subplots.AxesSubplot at 0x29966d6cef0>"
      ]
     },
     "execution_count": 11,
     "metadata": {},
     "output_type": "execute_result"
    },
    {
     "data": {
      "image/png": "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\n",
      "text/plain": [
       "<Figure size 432x288 with 1 Axes>"
      ]
     },
     "metadata": {},
     "output_type": "display_data"
    }
   ],
   "source": [
    "my_data.sample(n=250).plot(kind= 'scatter', x='X Data', y='Y')"
   ]
  },
  {
   "cell_type": "markdown",
   "metadata": {},
   "source": [
    "#### Batch Size"
   ]
  },
  {
   "cell_type": "code",
   "execution_count": 12,
   "metadata": {},
   "outputs": [],
   "source": [
    "batch_size = 8"
   ]
  },
  {
   "cell_type": "code",
   "execution_count": 13,
   "metadata": {},
   "outputs": [
    {
     "data": {
      "text/plain": [
       "array([-0.65152652, -0.11901627])"
      ]
     },
     "execution_count": 13,
     "metadata": {},
     "output_type": "execute_result"
    }
   ],
   "source": [
    "np.random.randn(2)"
   ]
  },
  {
   "cell_type": "markdown",
   "metadata": {},
   "source": [
    "#### Variables"
   ]
  },
  {
   "cell_type": "code",
   "execution_count": 14,
   "metadata": {},
   "outputs": [],
   "source": [
    "m = tf.Variable(0.85)\n",
    "b = tf.Variable(0.87)"
   ]
  },
  {
   "cell_type": "markdown",
   "metadata": {},
   "source": [
    "#### Placeholders"
   ]
  },
  {
   "cell_type": "code",
   "execution_count": 15,
   "metadata": {},
   "outputs": [],
   "source": [
    "xph = tf.placeholder(tf.float32, [batch_size])\n",
    "yph = tf.placeholder(tf.float32, [batch_size])"
   ]
  },
  {
   "cell_type": "markdown",
   "metadata": {},
   "source": [
    "#### Graph"
   ]
  },
  {
   "cell_type": "code",
   "execution_count": 16,
   "metadata": {},
   "outputs": [],
   "source": [
    "y_model = m* xph + b"
   ]
  },
  {
   "cell_type": "markdown",
   "metadata": {},
   "source": [
    "#### Loss function"
   ]
  },
  {
   "cell_type": "code",
   "execution_count": 17,
   "metadata": {},
   "outputs": [],
   "source": [
    "error = tf.reduce_sum(tf.square(yph - y_model))"
   ]
  },
  {
   "cell_type": "markdown",
   "metadata": {},
   "source": [
    "#### Optimizer"
   ]
  },
  {
   "cell_type": "code",
   "execution_count": 18,
   "metadata": {},
   "outputs": [],
   "source": [
    "optimizer = tf.train.GradientDescentOptimizer(learning_rate = 0.001)\n",
    "train = optimizer.minimize(error)"
   ]
  },
  {
   "cell_type": "markdown",
   "metadata": {},
   "source": [
    "#### Initialize Variable"
   ]
  },
  {
   "cell_type": "code",
   "execution_count": 19,
   "metadata": {},
   "outputs": [],
   "source": [
    "init = tf.global_variables_initializer()"
   ]
  },
  {
   "cell_type": "markdown",
   "metadata": {},
   "source": [
    "#### Session"
   ]
  },
  {
   "cell_type": "code",
   "execution_count": 20,
   "metadata": {},
   "outputs": [],
   "source": [
    "with tf.Session() as sess:\n",
    "    \n",
    "    sess.run(init)\n",
    "    \n",
    "    batches = 1000\n",
    "    \n",
    "    for i in range(batches):\n",
    "        \n",
    "        rand_ind = np.random.randint(len(x_data), size= batch_size)  #random index returns random integer from 0 to length of x_data of size 8 (batch size)\n",
    "        \n",
    "        feed = {xph: x_data[rand_ind], yph: y_true[rand_ind]}\n",
    "        \n",
    "        sess.run(train,feed_dict=feed)\n",
    "        \n",
    "    model_m, model_b = sess.run([m,b])"
   ]
  },
  {
   "cell_type": "code",
   "execution_count": 21,
   "metadata": {},
   "outputs": [
    {
     "data": {
      "text/plain": [
       "0.43888676"
      ]
     },
     "execution_count": 21,
     "metadata": {},
     "output_type": "execute_result"
    }
   ],
   "source": [
    "model_m"
   ]
  },
  {
   "cell_type": "code",
   "execution_count": 22,
   "metadata": {},
   "outputs": [
    {
     "data": {
      "text/plain": [
       "4.850715"
      ]
     },
     "execution_count": 22,
     "metadata": {},
     "output_type": "execute_result"
    }
   ],
   "source": [
    "model_b"
   ]
  },
  {
   "cell_type": "markdown",
   "metadata": {},
   "source": [
    "#### Visualization"
   ]
  },
  {
   "cell_type": "code",
   "execution_count": 23,
   "metadata": {},
   "outputs": [
    {
     "data": {
      "text/plain": [
       "[<matplotlib.lines.Line2D at 0x29969011ef0>]"
      ]
     },
     "execution_count": 23,
     "metadata": {},
     "output_type": "execute_result"
    },
    {
     "data": {
      "image/png": "iVBORw0KGgoAAAANSUhEUgAAAYIAAAEKCAYAAAAfGVI8AAAABHNCSVQICAgIfAhkiAAAAAlwSFlzAAALEgAACxIB0t1+/AAAADl0RVh0U29mdHdhcmUAbWF0cGxvdGxpYiB2ZXJzaW9uIDIuMi4yLCBodHRwOi8vbWF0cGxvdGxpYi5vcmcvhp/UCwAAIABJREFUeJztnXucFNWV+L+3u+clw8sBVF6iQSSAgsoGBUTBRxAQNQFi1Oi6UZONr41GMBrDuqybqIm/PHTjh1XXJLImgEYQiIria0bFQAQEBJmowCCCjAMyMPRMd9/fHzU9091T1V39qKqe7vP9A2Z6qqtu3a4+59zzukprjSAIglC8+LwegCAIguAtoggEQRCKHFEEgiAIRY4oAkEQhCJHFIEgCEKRI4pAEAShyBFFI