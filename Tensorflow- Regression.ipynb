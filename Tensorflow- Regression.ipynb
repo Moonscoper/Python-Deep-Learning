{
 "cells": [
  {
   "cell_type": "markdown",
   "metadata": {},
   "source": [
    "# Tensorflow Regression"
   ]
  },
  {
   "cell_type": "code",
   "execution_count": 1,
   "metadata": {},
   "outputs": [],
   "source": [
    "import numpy as np\n",
    "import pandas as pd\n",
    "import matplotlib.pyplot as plt\n",
    "%matplotlib inline"
   ]
  },
  {
   "cell_type": "code",
   "execution_count": 2,
   "metadata": {},
   "outputs": [],
   "source": [
    "import tensorflow as tf"
   ]
  },
  {
   "cell_type": "code",
   "execution_count": 3,
   "metadata": {},
   "outputs": [],
   "source": [
    "x_data = np.linspace(0.0, 10.0, 1000000)"
   ]
  },
  {
   "cell_type": "code",
   "execution_count": 4,
   "metadata": {},
   "outputs": [],
   "source": [
    "noise = np.random.randn(len(x_data))"
   ]
  },
  {
   "cell_type": "code",
   "execution_count": 5,
   "metadata": {},
   "outputs": [
    {
     "data": {
      "text/plain": [
       "array([ 0.59938905, -0.01890762, -0.7993285 , ..., -1.39709433,\n",
       "       -0.66132347, -0.21255759])"
      ]
     },
     "execution_count": 5,
     "metadata": {},
     "output_type": "execute_result"
    }
   ],
   "source": [
    "noise"
   ]
  },
  {
   "cell_type": "code",
   "execution_count": 6,
   "metadata": {},
   "outputs": [],
   "source": [
    "y_true = (0.5* x_data)+ 5 + noise"
   ]
  },
  {
   "cell_type": "code",
   "execution_count": 7,
   "metadata": {},
   "outputs": [],
   "source": [
    "x_df = pd.DataFrame(data= x_data, columns=['X Data'])"
   ]
  },
  {
   "cell_type": "code",
   "execution_count": 8,
   "metadata": {},
   "outputs": [],
   "source": [
    "y_df = pd.DataFrame(data= y_true, columns=['Y'])"
   ]
  },
  {
   "cell_type": "code",
   "execution_count": 9,
   "metadata": {},
   "outputs": [],
   "source": [
    "my_data = pd.concat([x_df, y_df], axis=1 )"
   ]
  },
  {
   "cell_type": "code",
   "execution_count": 10,
   "metadata": {},
   "outputs": [
    {
     "data": {
      "text/html": [
       "<div>\n",
       "<style scoped>\n",
       "    .dataframe tbody tr th:only-of-type {\n",
       "        vertical-align: middle;\n",
       "    }\n",
       "\n",
       "    .dataframe tbody tr th {\n",
       "        vertical-align: top;\n",
       "    }\n",
       "\n",
       "    .dataframe thead th {\n",
       "        text-align: right;\n",
       "    }\n",
       "</style>\n",
       "<table border=\"1\" class=\"dataframe\">\n",
       "  <thead>\n",
       "    <tr style=\"text-align: right;\">\n",
       "      <th></th>\n",
       "      <th>X Data</th>\n",
       "      <th>Y</th>\n",
       "    </tr>\n",
       "  </thead>\n",
       "  <tbody>\n",
       "    <tr>\n",
       "      <th>0</th>\n",
       "      <td>0.00000</td>\n",
       "      <td>5.599389</td>\n",
       "    </tr>\n",
       "    <tr>\n",
       "      <th>1</th>\n",
       "      <td>0.00001</td>\n",
       "      <td>4.981097</td>\n",
       "    </tr>\n",
       "    <tr>\n",
       "      <th>2</th>\n",
       "      <td>0.00002</td>\n",
       "      <td>4.200681</td>\n",
       "    </tr>\n",
       "    <tr>\n",
       "      <th>3</th>\n",
       "      <td>0.00003</td>\n",
       "      <td>5.893396</td>\n",
       "    </tr>\n",
       "    <tr>\n",
       "      <th>4</th>\n",
       "      <td>0.00004</td>\n",
       "      <td>4.495462</td>\n",
       "    </tr>\n",
       "  </tbody>\n",
       "</table>\n",
       "</div>"
      ],
      "text/plain": [
       "    X Data         Y\n",
       "0  0.00000  5.599389\n",
       "1  0.00001  4.981097\n",
       "2  0.00002  4.200681\n",
       "3  0.00003  5.893396\n",
       "4  0.00004  4.495462"
      ]
     },
     "execution_count": 10,
     "metadata": {},
     "output_type": "execute_result"
    }
   ],
   "source": [
    "my_data.head()"
   ]
  },
  {
   "cell_type": "code",
   "execution_count": 11,
   "metadata": {},
   "outputs": [
    {
     "data": {
      "text/plain": [
       "<matplotlib.axes._subplots.AxesSubplot at 0x29966d6cef0>"
      ]
     },
     "execution_count": 11,
     "metadata": {},
     "output_type": "execute_result"
    },
    {
     "data": {
      "image/png": "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