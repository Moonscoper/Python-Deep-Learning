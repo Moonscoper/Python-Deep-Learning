{
 "cells": [
  {
   "cell_type": "markdown",
   "metadata": {},
   "source": [
    "# Tensorflow Regression"
   ]
  },
  {
   "cell_type": "code",
   "execution_count": 1,
   "metadata": {},
   "outputs": [],
   "source": [
    "import numpy as np\n",
    "import pandas as pd\n",
    "import matplotlib.pyplot as plt\n",
    "%matplotlib inline"
   ]
  },
  {
   "cell_type": "code",
   "execution_count": 2,
   "metadata": {},
   "outputs": [],
   "source": [
    "import tensorflow as tf"
   ]
  },
  {
   "cell_type": "code",
   "execution_count": 3,
   "metadata": {},
   "outputs": [],
   "source": [
    "x_data = np.linspace(0.0, 10.0, 1000000)"
   ]
  },
  {
   "cell_type": "code",
   "execution_count": 4,
   "metadata": {},
   "outputs": [],
   "source": [
    "noise = np.random.randn(len(x_data))"
   ]
  },
  {
   "cell_type": "code",
   "execution_count": 5,
   "metadata": {},
   "outputs": [
    {
     "data": {
      "text/plain": [
       "array([ 0.59938905, -0.01890762, -0.7993285 , ..., -1.39709433,\n",
       "       -0.66132347, -0.21255759])"
      ]
     },
     "execution_count": 5,
     "metadata": {},
     "output_type": "execute_result"
    }
   ],
   "source": [
    "noise"
   ]
  },
  {
   "cell_type": "code",
   "execution_count": 6,
   "metadata": {},
   "outputs": [],
   "source": [
    "y_true = (0.5* x_data)+ 5 + noise"
   ]
  },
  {
   "cell_type": "code",
   "execution_count": 7,
   "metadata": {},
   "outputs": [],
   "source": [
    "x_df = pd.DataFrame(data= x_data, columns=['X Data'])"
   ]
  },
  {
   "cell_type": "code",
   "execution_count": 8,
   "metadata": {},
   "outputs": [],
   "source": [
    "y_df = pd.DataFrame(data= y_true, columns=['Y'])"
   ]
  },
  {
   "cell_type": "code",
   "execution_count": 9,
   "metadata": {},
   "outputs": [],
   "source": [
    "my_data = pd.concat([x_df, y_df], axis=1 )"
   ]
  },
  {
   "cell_type": "code",
   "execution_count": 10,
   "metadata": {},
   "outputs": [
    {
     "data": {
      "text/html": [
       "<div>\n",
       "<style scoped>\n",
       "    .dataframe tbody tr th:only-of-type {\n",
       "        vertical-align: middle;\n",
       "    }\n",
       "\n",
       "    .dataframe tbody tr th {\n",
       "        vertical-align: top;\n",
       "    }\n",
       "\n",
       "    .dataframe thead th {\n",
       "        text-align: right;\n",
       "    }\n",
       "</style>\n",
       "<table border=\"1\" class=\"dataframe\">\n",
       "  <thead>\n",
       "    <tr style=\"text-align: right;\">\n",
       "      <th></th>\n",
       "      <th>X Data</th>\n",
       "      <th>Y</th>\n",
       "    </tr>\n",
       "  </thead>\n",
       "  <tbody>\n",
       "    <tr>\n",
       "      <th>0</th>\n",
       "      <td>0.00000</td>\n",
       "      <td>5.599389</td>\n",
       "    </tr>\n",
       "    <tr>\n",
       "      <th>1</th>\n",
       "      <td>0.00001</td>\n",
       "      <td>4.981097</td>\n",
       "    </tr>\n",
       "    <tr>\n",
       "      <th>2</th>\n",
       "      <td>0.00002</td>\n",
       "      <td>4.200681</td>\n",
       "    </tr>\n",
       "    <tr>\n",
       "      <th>3</th>\n",
       "      <td>0.00003</td>\n",
       "      <td>5.893396</td>\n",
       "    </tr>\n",
       "    <tr>\n",
       "      <th>4</th>\n",
       "      <td>0.00004</td>\n",
       "      <td>4.495462</td>\n",
       "    </tr>\n",
       "  </tbody>\n",
       "</table>\n",
       "</div>"
      ],
      "text/plain": [
       "    X Data         Y\n",
       "0  0.00000  5.599389\n",
       "1  0.00001  4.981097\n",
       "2  0.00002  4.200681\n",
       "3  0.00003  5.893396\n",
       "4  0.00004  4.495462"
      ]
     },
     "execution_count": 10,
     "metadata": {},
     "output_type": "execute_result"
    }
   ],
   "source": [
    "my_data.head()"
   ]
  },
  {
   "cell_type": "code",
   "execution_count": 11,
   "metadata": {},
   "outputs": [
    {
     "data": {
      "text/plain": [
       "<matplotlib.axes._subplots.AxesSubplot at 0x29966d6cef0>"
      ]
     },
     "execution_count": 11,
     "metadata": {},
     "output_type": "execute_result"
    },
    {
     "data": {
      "image/png": "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\n",
      "text/plain": [
       "<Figure size 432x288 with 1 Axes>"
      ]
     },
     "metadata": {},
     "output_type": "display_data"
    }
   ],
   "source": [
    "my_data.sample(n=250).plot(kind= 'scatter', x='X Data', y='Y')"
   ]
  },
  {
   "cell_type": "markdown",
   "metadata": {},
   "source": [
    "#### Batch Size"
   ]
  },
  {
   "cell_type": "code",
   "execution_count": 12,
   "metadata": {},
   "outputs": [],
   "source": [
    "batch_size = 8"
   ]
  },
  {
   "cell_type": "code",
   "execution_count": 13,
   "metadata": {},
   "outputs": [
    {
     "data": {
      "text/plain": [
       "array([-0.65152652, -0.11901627])"
      ]
     },
     "execution_count": 13,
     "metadata": {},
     "output_type": "execute_result"
    }
   ],
   "source": [
    "np.random.randn(2)"
   ]
  },
  {
   "cell_type": "markdown",
   "metadata": {},
   "source": [
    "#### Variables"
   ]
  },
  {
   "cell_type": "code",
   "execution_count": 14,
   "metadata": {},
   "outputs": [],
   "source": [
    "m = tf.Variable(0.85)\n",
    "b = tf.Variable(0.87)"
   ]
  },
  {
   "cell_type": "markdown",
   "metadata": {},
   "source": [
    "#### Placeholders"
   ]
  },
  {
   "cell_type": "code",
   "execution_count": 15,
   "metadata": {},
   "outputs": [],
   "source": [
    "xph = tf.placeholder(tf.float32, [batch_size])\n",
    "yph = tf.placeholder(tf.float32, [batch_size])"
   ]
  },
  {
   "cell_type": "markdown",
   "metadata": {},
   "source": [
    "#### Graph"
   ]
  },
  {
   "cell_type": "code",
   "execution_count": 16,
   "metadata": {},
   "outputs": [],
   "source": [
    "y_model = m* xph + b"
   ]
  },
  {
   "cell_type": "markdown",
   "metadata": {},
   "source": [
    "#### Loss function"
   ]
  },
  {
   "cell_type": "code",
   "execution_count": 17,
   "metadata": {},
   "outputs": [],
   "source": [
    "error = tf.reduce_sum(tf.square(yph - y_model))"
   ]
  },
  {
   "cell_type": "markdown",
   "metadata": {},
   "source": [
    "#### Optimizer"
   ]
  },
  {
   "cell_type": "code",
   "execution_count": 18,
   "metadata": {},
   "outputs": [],
   "source": [
    "optimizer = tf.train.GradientDescentOptimizer(learning_rate = 0.001)\n",
    "train = optimizer.minimize(error)"
   ]
  },
  {
   "cell_type": "markdown",
   "metadata": {},
   "source": [
    "#### Initialize Variable"
   ]
  },
  {
   "cell_type": "code",
   "execution_count": 19,
   "metadata": {},
   "outputs": [],
   "source": [
    "init = tf.global_variables_initializer()"
   ]
  },
  {
   "cell_type": "markdown",
   "metadata": {},
   "source": [
    "#### Session"
   ]
  },
  {
   "cell_type": "code",
   "execution_count": 20,
   "metadata": {},
   "outputs": [],
   "source": [
    "with tf.Session() as sess:\n",
    "    \n",
    "    sess.run(init)\n",
    "    \n",
    "    batches = 1000\n",
    "    \n",
    "    for i in range(batches):\n",
    "        \n",
    "        rand_ind = np.random.randint(len(x_data), size= batch_size)  #random index returns random integer from 0 to length of x_data of size 8 (batch size)\n",
    "        \n",
    "        feed = {xph: x_data[rand_ind], yph: y_true[rand_ind]}\n",
    "        \n",
    "        sess.run(train,feed_dict=feed)\n",
    "        \n",
    "    model_m, model_b = sess.run([m,b])"
   ]
  },
  {
   "cell_type": "code",
   "execution_count": 21,
   "metadata": {},
   "outputs": [
    {
     "data": {
      "text/plain": [
       "0.43888676"
      ]
     },
     "execution_count": 21,
     "metadata": {},
     "output_type": "execute_result"
    }
   ],
   "source": [
    "model_m"
   ]
  },
  {
   "cell_type": "code",
   "execution_count": 22,
   "metadata": {},
   "outputs": [
    {
     "data": {
      "text/plain": [
       "4.850715"
      ]
     },
     "execution_count": 22,
     "metadata": {},
     "output_type": "execute_result"
    }
   ],
   "source": [
    "model_b"
   ]
  },
  {
   "cell_type": "markdown",
   "metadata": {},
   "source": [
    "#### Visualization"
   ]
  },
  {
   "cell_type": "code",
   "execution_count": 23,
   "metadata": {},
   "outputs": [
    {
     "data": {
      "text/plain": [
       "[<matplotlib.lines.Line2D at 0x29969011ef0>]"
      ]
     },
     "execution_count": 23,
     "metadata": {},
     "output_type": "execute_result"
    },
    {
     "data": {
      "image/png": "iVBORw0KGgoAAAANSUhEUgAAAYIAAAEKCAYAAAAfGVI8AAAABHNCSVQICAgIfAhkiAAAAAlwSFlzAAALEgAACxIB0t1+/AAAADl0RVh0U29mdHdhcmUAbWF0cGxvdGxpYiB2ZXJzaW9uIDIuMi4yLCBodHRwOi8vbWF0cGxvdGxpYi5vcmcvhp/UCwAAIABJREFUeJztnXucFNWV+L+3u+clw8sBVF6iQSSAgsoGBUTBRxAQNQFi1Oi6UZONr41GMBrDuqybqIm/PHTjh1XXJLImgEYQiIria0bFQAQEBJmowCCCjAMyMPRMd9/fHzU9091T1V39qKqe7vP9A2Z6qqtu3a4+59zzukprjSAIglC8+LwegCAIguAtoggEQRCKHFEEgiAIRY4oAkEQhCJHFIEgCEKRI4pAEAShyBFFIAiCUOSIIhAEQShyRBEIgiAUOQGvB2CHXr166UGDBnk9DEEQhE7F2rVr92mte6c6zjFFoJR6ApgG7NVaj2h97UHgYqAZ+AdwrdZ6f6pzDRo0iDVr1jg1VEEQhIJEKbXdznFOuoaeBCYnvLYSGKG1PhX4EPixg9cXBEEQbOCYItBavwF8kfDaS1rrUOuv7wD9nbq+IAiCYA8vg8X/AvzVw+sLgiAIeKQIlFJ3AyFgQZJjblBKrVFKrfn888/dG5wgCEKR4boiUEpdgxFEvlIn2QxBaz1faz1aaz26d++UQW9BEAQhQ1xVBEqpycAcYLrW+rCb1xYEQfCS+sYg63fup74x6PVQOuBk+ujTwLlAL6VUHTAXI0uoDFiplAJ4R2v9fafGIAiCkA8sWbeLOc9soMTnoyUS4YFvnsr0Uf28HlYbjikCrfW3TV5+3KnrCYIg5CP1jUHmPLOBIy0RjhABYPYzGxg3uBdVlWUej85AWkwIgiA4SF1DEyW+eFFb4vNR19Dk0Yg6IopAEATBQfr3rKAlEol7rSUSoX/PCo9G1BFRBIIgCA5SVVnGA988lfISH13LApSX+Hjgm6fmjVsIOknTOUEQhM7M9FH9GDe4F3UNTfTvWZFXSgBEEQiCILhCVWVZ3imAKOIaEgRBKHJEEQiCIGRBPheK2UVcQ4IgCBmSbqFYfWMwL+MEoggEQRAyIN1CsXyuLhbXkCAIQgakUygWqzQOBkMcaYkw+5kNeeNOEkUgCIKQAekUiuV7dbEoAkEQhAyILRTrUuqn1K+4Z+owU7dQvlcXiyIQBEHIkOmj+nHP1GG0RDSlAR/zlm9m6bpdHY7L9+piCRYLgiBkSH1jkHnLN9McitDcuhv77Gc2MOy4bhxqDsdlB+VzdbEoAkEQhAyJ+v6jWUMAOqKZ8ttqyvwds4PytbpYXEOCIAgZYub7D4Y1zSHr7KB8LEATRSAIgpAhib7/Ur+ivMQ6O2jJul2Mu38VVz22mnH3rzKNJ3iBuIYEQRCyINb336XUz7SHq+P+Hs0OyuedymRFIAiCkCVVlWWMHNCDwcd0bU8pLfNTGvBxzzQjpTSfawlkRSAIgpBDpo/qx8EjIe59fhMlfh/zlm2ma1mAcYN75W0tgawIBEEQckhbSmlYc6g53BYwBvK2lkBWBIIgCDmkrqEJHdFxr+mIpq6hKW9rCUQRCIIg5JAupX6C4XhFEAxrupT6gfysJRBFIAhCG271y8+HvvxOjeFQc5jyEh9HWtrjAeUlPg41hy3HsenTLwHN8L7dPZkPUQSCIADu9cvPh778qcaQqCTSURpWwV+z15es28XtC9cRatUZJX7FL2eOdH0+lNY69VEeM3r0aL1mzRqvhyEIBUt9Y5Bx96/qYMXWzJmUUwvVretkM4ZEJTHrjP4sXFuXluJaum4Xs1Mou/rGIGN//grBULwMLgv4eOvO3MyHUmqt1np0quNkRSAIgmnPnGiOey4FtFvXyXQMQIeirz+8swMgrSIwO0HhuoYm/MoHxLuM/D7l6nyApI8KgoB7/fKtrtOl1O9a/51k92pW9JWI3SKwaJGZlUDv37OCsI50eD0c0a7XFogiEATBtX75ZteZNbo/0x6ujuu/42RjtmT3aqYkEsmVgqyqLOPBGSMJxEjhEr/iwRnu1xZIjEAQhDbczhqK9uaJ9dcHfOD3+Sg1aePsxBgS7zXRvz9rdH/+/Led+JWPsI7w4IzcBnMTs4aAnH0GEiMQBCFt3Mpxj15n/c79Hfz1oQiEIhGCIWcbs1nda6J/v7p2H3/+Wx0oQKucjiE6jglDegPeZVSJa0gQBM+w44rxojFb1L8PRvA4GIpwuDlMMNRxf4FcEdud1GovA6cQRSAIgmck+uvLAooSf7zV7WVjNjc7hnrZnVRcQ4IgeEqiK6amdl+HHHwn3FV24iF2s6lyEVtxK3PLDFEEgiB4Tqy/3o3GbHZ98dEVSzLFlCu/vp1rOYVkDQmC0GnJxBLPpLrZ6jpm5yoL+Pifq0czvG83W2OKPTeQ075DkjUkCEJBk6klnkl1s1WGkdm5gqEI3//jWiLolGOKvYcjoTBaaypKAq73YHIsWKyUekIptVcptTHmtaOVUiuVUtta/+/p1PUFQShcssmwyaUv3irr6XBLOOWYEu+hJawJRXA9YwiczRp6Epic8NqdwCta65OAV1p/FwRBSItsMmxyWUUde66jWvcbsDumVO0s3Eybdcw1pLV+Qyk1KOHlS4BzW3/+PfAaMMepMQiCEE8+7AOQC7LN5okGpBMrepOR+lwHuP4Pa+K6iSZbaaSqoXAzbdbtGMExWuvdAFrr3UqpPi5fXxCKFqeqVr1QLrnI5qmu3Wd7PlKdy6gO7sODM0bazvpJvAezGIFb8+lo1lDrimCZ1npE6+/7tdY9Yv7eoLU2jRMopW4AbgAYOHDgGdu3b3dsnIJQ6OQyUyYWrzeZSSebJ/Z+05mPdOcuXcWYmDWUS6War1lDe5RSx7WuBo4D9lodqLWeD8wHI33UrQEKQiGSbqaMHQEfG+xMp1d/Lkknmyf2ftOZj3TnLt1+TYnHe+Gyc7vFxFLgmtafrwGWuHx9QShK0smUsZuR42VLhFSkut905sPLil+3cDJ99GngbeBkpVSdUuq7wM+BC5RS24ALWn8XBMFh7GTKRPcA2PTpAVsCPp8FZKr7TSdzyK29GrxEKosFoYiw8l/HuoKaw2EiGlrC7bLByiduZ29eL0nlr0/Hn98ZM67sxghEEQhCkWMWDE1nc5jOKCCLhXwNFguC4BJ2BbRZMLSsxM8dF57Mib27pOx549ZmNvlKNoowX5SoKAJBKEDSSes08/UfCoZ58MWthHXqfjnFTDbps16n3sYiG9MIQoGRbh+e2GBol7L2NgmHmlP3yylmsul35OVuZGaIIhAEm0SzavJdKGaS1jl9VD9q5kzi3ouH0yWhZ46bKaGdZY4hu/TZfEu9FdeQINggn5bxqcg0rbOqsoyJQ/vwkyUb4153KyW0s8xx1K/fpdSfcfpsvqXeyopAEFKQb8v4VNjNezezvr3Kme8sc7xk3S7G3b+Kqx5bzbSHq5k1un9Gc5VvtQmyIhCEFGSykYnXpNruMZn17cZWkYl4Ocd2M3fMWmosXFPHspvGc6g5nPZceTHPVogiEIQU5Nsy3i5WaZ31jUFmL95AMGTdI8jtlFCv5jgdd5SVsjrUHGbkgB6m70lFvqTeimtIEFKQuIwvC/i48dzBOb2Gm0HSBat3EAzFC12vewR54SpJ1x3VWQ0CO8iKQBBsEF3GL1i9g0de3cb8Nz7ikddqcxLQdDNIWt8Y5JFXt3V4vTnsvUBz21WSSVdRqz0Qsmk9HT0+NgidiaspG0QRCAWBWxWa//1aLcGQJhgKAdm3XXa7lXNdQxOlfn/b+KOcP7RPXrgo3HSVpGvh1zcGOb6qS4eYQLqK3Ox4Dcx5ZgMAR1oilPkVX/liJw+xjaHz7oRevXJ232aIIhA6PW5Z1OlYkNm0d3AySNq/Z0UHJQDw8pa91DcG80IZuIWdXc6imD1jIwf0SFuRmx1/x+L1gCIYijB43w6mbqlmytZqTt63gwiKL885k26Xz3B0LkQRCJ0aNy1quxZktu0dnPQ7V9fuI6IVEN9sstSf31lQTmHHHZXsGUtXkZsdf/K+nXz9gze5YNObDKk3hP/fBgznp+d/jxeGjOU7vUdyswP3HosoAqFT46ZFbceCTFcxpWOVZkt0bKFIx47D+RD09KoBm5k7KnYsyZ6xdBV59PiTPt/O1K3VTNlSEy/8T/sefz15HJ9XHt32nodfreWKMQMdnRNRBEKnxm2LOpUFmYlicitIajY2gFK/8rSYqb4x2BqEr7XV9tppEld090wbZvmM2VbkWsOmTVQtWsTfFjxN14+3EUGxZuAINlz/n+yedBG3vrGHSMQI3MfixmpNFIHQqXHToo69ptX5s2nv4LQgNhtbacDHipvHM/iYrpbvq28MsunTA4BieN9uOR3nknW7mL14PcGQsUqJprW6vfdxFLMV3bxlm7ln6jDmLd9s+owlKnKA9Tv3079HOVXba2HhQli0CLZsAZ+PrhMm0HjzTWyf8HW+cvIgqirLOBWoOcuY5+t+v4bmmE2B3FitiSIQOj35VKHphWLKdmzJlMCSdbv40aL1bbuVBXzw0KxRObHWo0I3qgRiia1ryIcK5xH9ulMzZ5LlWKKKfMl7dTz+6FKmfFDDBZvfpKp+J/h8cM45cMst8I1vwDHHUAkMT7h2VWUZE4b04RczR7r+/IgiEAqCfKnQhPxSTImkM7ZoBXLslpWhiJHlkgtr3cpVBYYVvHHXAb41/21Xm9AlW9FZPmNaw/vvc3jB05zy+FMsra8jrHysHjCCP35tOrc8PJujTxxoewxePD+iCATBBukGMvNJMSVid2x1DU34farD636VG5+1mdAFKAv4uGfaMP7j+U0EQzqrbLBkn5vV3248dzAPJ8QrTH3+GzYYLp9Fi+DDD6nw+dg78FQeP2M6Lw45i31detK1LMBlJd04mvRw+/kRRSAIKXCqTiFftim0Gk//nhWETTKMwjo3PutEV1VzOMxNE0/iijEDW9tgxF873WywZJ9bsqIuY58AzQ0TTozP1okK/6jPf9s2w+0zcSLcdhsNF07hn5/YGLf3cz5kY9lBNq8XhCSYbexeXuKjZs6krIR3vvXetxrP0nW7uN2hGEGURAVU3xhk7M9XdeiHVBZQvHXnebZbOFh9bkCHv5UFFNGirrjjZ0+k6h9b2i3/qPCfNAlmzoTLLoPevdves2D1du59fjMlfkU44v02n7J5vSDkACfqFNxuK5HNeKL+6nSyhrJ1oxltMHwdFMGM0wfYvqdknxuATljpRCJQEmh1g2nN8L0fcem2t6h86ib45CPw+w3L/0c/6iD8oyxZt4t5yzZT4lO0hCLMvXh4Xm6sY4YoAkFIghN1Cvm2v0Gq8USzWayIbZa2YuNnPPLqNkr9/oxXOlaxgyXrd7H473XcNHFwygKrZJ9bw6FmguF4RdASjjB8Ty0Xbn6TKVtqGLR/NyHlIzJxItx1pyH8k/T7iVWmUeYt38zkEcfmhdsvFaIIBCEJTqSDOlkEl0ncwWw8wXAkbu9iq/NGXUpAnBDMpilf7Jz7leJQcxiAxqDx/y9XfsjDr27jwRkjLZVMss+trqGJ8hIfR5rDjNjzD6O3z4c1HN9gCP/VJ4zisXEzGX/7dUyeeIqtMeebck8XiREIgg1yHdhdum5XByHlZTvr6Higvful8qkOQdTY85r54RPpWhbgqevGZLRxS31jkOfX7+L+Fz6kqSXc4e9WsZrYzwoS6hC0Zn/1Oyya8xAXflDN8fs/I6R8vH3CaZx223U0T5vOTt9RaX/OTsWSskViBIKQQ3Kdzme32Zld5ZNt3GH6qH4MO64bU37zJoDhOglr7li8AdCmaZzJ6gCitESMlcX6nfvTFq4vbPyM+5Z/gJWeMbO4TZXhyL6wdm1bwLfHxx/z3UCAmoEjefzsy3nppDO56zvjCWaRu5/PhYR2EEUgCB6RTLmka93nwjVxqDlMWcBPc7i9TbXfp0AroN0iT9ZwLZaAD2ad0Z9pD1envUpZ8M527n5uY9JjEt1pccpQhzn1s23s/cHjhHevxf/JJxAIwPnnw09+gu/SSxlW2oVuDU3c2rOC6tp9jLt/le1xminpfC4kTIUoAiHvybd8e6fJxLrPRdzB7BxGHUFCYNWk4ZrWdMjy8Sn485q6pHsjm1HfGOTeZZs7vB5QoHyK8oDf1OKu++Iwp+3exrnvv86UrTUMOLCHFp+fQ+dMpNtPfwqXXAJHt5d2VUFbumqqPZxjSaak87mQMBmiCARPSSXk8y3f3g3MrHu/TyW17nPhmrA6B2B53qgV/OqWvfx0yUYOx/hxAj4/JBQm21mlGOmjiuaE/XN8PsWKW86O38ZRa/jb32DhQkYsWsTTO3bQ7AtQPWgUvx73bV4feiYv3HspJLlesj2czeIP+ZT6mytEEQiekUrId/YvXaYrGTPL/FAwzMZdB5IGXXPhmrA6R7LzVlWWMXFoHyJL4s8V1pFWt1I7VquU2Lnq37PCdM+EuRcPNxrkaQ3vvmv4/Bcvhu3boaQE/wUX8N53/43vNvTli7JKAEr8iprafZbGQ7p7OHf27CArfF4PQChOYoX8wWCIIy0RZj+zgfrGYNsx0S9dLLFFQfnMknW7GHf/Kq56bDXj7l/F0nW7bL+3qrKMe6YN6/D6vOWb4+bH6r0jB/TISijFnqO+Mcj6nfsBkp43upooL/HRtSxAeYmPB2eM5MEZ8a+ZrVIS56qmdl/bubqU+SkN+Ljv0uFcyW64/XYYNAjOPBN+8xsYMQKefBL27IHlyxl42w841KVb27lbwrrDcxVLdA/nRG6aONj0Xt3e/8ItZEUgpMQJH72V++PVLXuZ2LqRutmXrjkczvsvXS5WMiP6dqdLqb8thx7ctzzTdctlspqwmquaOZNY9oOx7Pjrq5z+7sv0mPU92LkTSkvhwgth3jyYPh16xK+QzKqSk82b2TNWFlBcMca8W2hnzw6yQhSBkBSnfPRW7o+5SzfxkyUb267zwDdP5baF64h+ryOapEv9fMCOkktF/54VhLV5kNYNMlVmZsHSZAHUxLlSOsLoXR+y45qFHLtyGZMO7qPZH+CzcRM59r77DOHfvbvl9fv3rOBIKL7m4EjI2njIRLB35uwgK0QRCJakIwwy6S/TVj3qUxxqrRqNWsDR64wb3Au/z0eoVWlEl/r5HCewq+SSkVhd2xKOcM/UYTnv82OFW77w/j0rCIVDnF73AVO3VnPR1hr6tgr/1084nQcmXM3LJ42hpbIrNZe1F2clu8/EItlURbOZCPbOmh1khSgCwRK7wiDTVUNsxsncpZtM3SBAWkv9fMCukks1/umj+nHwSIh7l22mNOBj3vLNdC0PWM5tLldvjvvCIxF4+22qFi3i70//mYq9n9HsL+HNr5zBxhvnMDdyIrtV+/x0jfnMk91nXUMTFSUBDgbbU44qSgIpn5dCE+zpIsFiwRI7wsBO0DcZ0YwTKzdIOgIpGti0e20nmT6qHzVzJnHvxcPjevZA6oB39D5q9xxk3vLNNIciNAbDSec2m8/BbN7Mgr9Z+8IjEaiuhltvhYEDYfx4ePRRKs4aw8HH/petG2oZtfY1zrj7ZhpK4z/f6Gee6j4LNZjrNJ6sCJRSPwSuw6hUeR+4Vmt9xIuxCNbY8Z/mwoWQ6jp2fLj5Um+Q6LKYOLQPP1kSXyGbTDDF3kcwFMaXsEOY1dym+hxSNY0zm7dxg3sx/ztnkNWm9ZEIvPWWsZnLM8/Ap59CWRlcdBE88ABMmwbdutEViG3vZvWZr9+5P2Wn1EIM5jqN64pAKdUPuAUYprVuUkotBC4HnnR7LEJqkvlP6xuDHGhqoTmcvQWW7DqpfLj5Um9gJVTtCiaz+yCxXbLF3CazhK3GlWzeqmv3Za5YIxGoqTHy/BOF/8yZbcI/GVafuR2LvxCDuU7jVYwgAFQopVqAo4BPPRqHYAMz/2mscAlHIpT4rUv/s7mOnb/lQ5GPnc1dUgkms/so8yu0UpQl2z+X5FXBVuOymrdNnx5IP0mgWylV69e0C//du6G8HC66iIMXX8onZ06k7wB7GVOx92SWgWRHsRa7zz9dXFcEWutdSqlfADuAJuAlrfVLbo9DyBwzoVcWgEeuPI3hfbvb/gLmKsPFC79w4tjtbO6S6h7N7kP5FMtvGh/fVsECM4WTzJViNW+g7CUJrN3B4l//iSlbqjnug2pobDCE/5QphuU/dSpL/vGlYTB8spmWiL2MqShWz4dY/LnHC9dQT+AS4ARgP7BIKXWV1vqphONuAG4AGDjQvLhD8AYzoVfq99O9otT2l9KuT9+OsnDaL5w4BrOxjxvcK2tlZHUfg4/pmtY5Yu87mZK0ut7wvt2s7yUchupqjix4mrOeXsgljQ0cCZSy6sTRrBx+Nj/57zuoOraqbd4yddmlej6ctviLrdGhF66h84GPtdafAyilngXGAnGKQGs9H5gPxsY0bg+yGLH78GdrgdsVEOkEgNv31v0S0Azva110lA6JY7hn6jDmLd9sWgmbC2WUa2s3lZK0ul7se8KhFv7n+Eaq5txmuH327KG0vIJ1J5zB0pPGsuor/8Th0gq6lgX45xY/Va3XztRlV7vnIHcsWk9zuOMeCG4I5XxJPHATLxTBDuBMpdRRGK6h8wDZfsxj0nn4s7XA7QiIdK3J+sYgC1bvyHq/3MRzJo7h3uc3URow738U3dxl3c79jBrQIy1LPpZcW7uplIvZ9aafciznfLqRlj8t5OgXl+PbuwcqKmDqVJg5k4YJ53HLI+/G7ciVaAxkYjAsWbeLOxZvoDkhSO5GzKe+McimT79MqyV1oeBFjGC1Umox8HcgBLxHq+UveEMmS3g7mTxWf7MjIOxak+0KoLat6Cy6X+6PFq1n2HHdMhbIpmPw+zoIqVTZOfmALeUSCsEbbxgB32efpfvevXDUUW3CnylToEsX43ykTutN12CIPofNCS2hoeMeyrHvycXqKfrZ+VC2W1IXEp5kDWmt5wJzvbi20JFMl/BWwiVZumL0S5tKQNhRFkvW7WL24vUEQ+aew+awZspvq/nFjMwEsulGLVoz9+JhzFu2mRKfj+ZwmBvPHUzDoea8SGFNm6jwX7gQnn0WPv+8XfjPmmWkfLYK/0TsrIDScXUl2/pSac20h6vjlGuuFG+sIWRGMRSkSYuJPMHL4FQus26sVhcHj4SYt3xz3Je2Zs6kpO6KZMoieh0rJRClORTJWCBbjWH6qH5MHn5s20pk/hsf8dtV22wXf3lOKASvv95m+bcJ/2nT2i3/o45KeRq7gtiuqyvZ1pfRPZSjnyVYp8WmO99WCuioUj8RrYuiIE0UQR7gtUshl1k3Vp03731+U4fg37Kbxic9VzJr0s7G6VGyEcjJxvDfrxnuqDZXgs3iL08IheC119qF/759hqUfFf4XXWRL+Edxoogv8TkMhiMorQ0l0Epse45c1Y5YtaJ+9KrT00qH7syIIvCYTL9QuV5B5CpbxXR1EdatvvX2pnI6YrhtYgul0rEmrazHUr8ioonb4cqsP1K2nSbtFn8BrN+535s0xFAIXn3VEP5/+Uu78L/4YkP4T56clvCPxakivtjnsEupn2kPV8cp2NjPMlerWCtDaMKQPhnfR2dDFIHHZPKFcmoFkYtsFbMv1T3TDJ96LIaVp9sCg3csXp+WNZl4neZwmJsmnsQVYwZSU7vPtMJ2/c79bNx1oIOLKt25M1prNMcpNgCtFP/33a9REvDTv2cF1bX7GHf/KndXelHhv3ChIfzr69uF/6xZhvCvyH6V4mQRX+xzmG0PKrsUe5GasurVrZRaAfxAa/2JqyMyYfTo0XrNmsLMMK1vDDLu/lVxgaryEh81cyaZPozpHp/rsdr9oiQeu3TdrvYlf2sztcTg3O0XDOHm807KyZhiX4/2zQn4FI3BeOGd7twteGe70Rbab2SXaK0J+H0caYlQ5lcon2orMHPtc2ppibf86+uhsjLe8s+B8E8k9jN1UtEle+7yofArH8ZghVJqrdZ6dKrjkq0IngReUkr9HnhAa92Sq8EJ7aTrn/eqr066q5DE1UXikn/qb9/s8J6HX63lijEDs+5HE/t6qoyQaG+d7hWlKb/IC97Zzt3PGZ1Em1vb3ZcFfIRbm+7FBjTnf2e0o59TfUMjB5a/SN+VyyhfthS++MIQ/tOnG8L/6193RPjH4pYVnWyl6nSFcSq8ju/lCktFoLVeqJRaDvwUWKOU+iO0P9Va64dcGF9RkM4Xyqu+OrkIDMZ+aW+aeBK/XPlh3N9L/bkRlLEWWqqg8pFQmOv/sCZlEVp9Y5B7n9/U4XWfAr/fT0skflMd0Ln/nFpa4JVX2P7ok3R/aQUnNh2ksbSCuvMn0/+GawzhX16e+fkzwGtB7CX50vU2F6SKEbQAh4AyoCvYSNEQMsLuF8rpvjpmOLEKuWLMQB6OKQKD3Cg0s5YQZkHlLqV+QhFNOBIhGG4vQrP6Itc1NHUIeAOEI6BUR4E/vG/33HxOrcKfhQvhueegoYGq0gpWDh7D8qFn8+YJp6Eqyqk5bxJV5bl9BoxK2wNktR9BAZMPXW9zhaUiUEpNBh4ClgKna60PuzaqPCPffIC5XJLbuTcnViFVlWU8OCMhqDx1WFtqYCb3ZNajZt7yzW3B6tjg9Yi+3TnQ1MKNC/4et62h1RfZbDN5gLnTh9G1LGAq8DP+nJqbDeG/aFGb8KdbN3aefT73VQzn1eNPIxgobTu8qwPCZ8m6Xfxo0XpaWjN2Aj54aNaoTun2cIpC2g0t2YrgbmCm1rrjeriIyFcfYC6W5OkUBDmxCokVlNlm8yTrUTOib3fT4rX6xqDtL3LsHEQ3k5978XCuHHM8gKXAt/05NTfDyy+3C//9+43NWy65BGbOpH7sOVzwqxrTWEeuhU99Y5DZize0KQGAUCT9zK5Cx4vVuVMkixGc7eZA8pFsfID5topIJN17Swz2HmoOU98YzEm6KcC35r+dsa81WY+a2JbL6VYvJ5LMws9IMTc3w8qVhvBfssQQ/t27twl/LriA+hbDBXGg/ohprKM0kIO9hBOoa2jCn1AlDeBXndPt4SSFknYqdQRJyNQH6OaVVwoJAAAbSUlEQVQqIlOFk8m9VVWWZbeFYRZjSXafVgHhUr9KKSRTbcWZ+LqZwE/rMwgG44X/gQPtwn/WLDj/fGNbR+Kfo+ZwmEiCZ6rUr1hx8/iMm+pZ0b9nBeHEiwFh3TndHk5TCAHzolYEqb7AmfgA3cwkyEbheHVvZnOeaiyp7rNLqZ9guKOlbFdImn2R7c6t1SY1cfcYFf4LF8LSpe3C/9JLDcs/RvjHzlPiXAd8RrpqaUzlcq6VQHQ+HpxxKrcnxAgenDGy0ws8wZyiVQR2vuiZ+ADdyiQw/LhG583ote5YvIEeR5XayvDw4t6s5jzZWFIpn+g5VWsgt7zE2CsgGyFpV+GZHXf7ovX4FHTRYcbUruWuQxsZ8OZK+PJL6NEDLrusXfiXlppeH8znuqIkwCNXnk73ihLH3RDtG/1I1lAxUJSKIB3LNl0foFuZBAtW7+jQeTMYivD9P64lgra1OnDz3lLNudVYkikfoEOxWCSiWXHL2VlZyqmuaVWjUBZq5uxt7zFlazXnb1tNt+bD7C+v5MiMb1B+xeVw3nlJhX8sVnPtpkCuqiwrqn47xUxRKoJ0Ldt0fIBuZBLUNwZ55NVa078dbjHy3O26bNy6NztzbjaWZMrHtPFbwAhkZ4PVNTfuOsC35r8dl+6qmo9wwbY1TNlSzfm1q+na3MT+8kpeOHksy4eezYYhp/Pk98YzckAPwH48oZAyUoT8pygVgdNWu9OZBHUNTZT6fR12UorFqcKWTO8t0zlPJRCbWkJxxze1hLL+HM2uGa1FONISQYeOMOHjv9PtLw+w9uM1lBxu5EB5JS9+9WxWnDyONwaOJOQ3vlrlymc71pGIk89Rvme1Ce5SlIrADWvLyUyCZBt4RHGysCWTe8tmzpMJRKUUoBN+z57Ea+7a3cDXP3yHiRtf57zadw3Lv6IrX15yGSXfmsUnp45hYp9ulNbu461nNlCRZqzDCieeo3ytjRG8oygVAXTu/F8zoTp95HE8996nlPh9hPN0V6Vs5txMINY1NFEe8NMSbl8VlAf8tldCqaziKn+EqjVGV8+jn3+eXzc28kVFN5YNPZsVQ8fz3ldG8fpdF9KtsoyRKe4xX9oRFFJ/HCF3FK0igM6d/2tWlVsaMDZWn3vxsLy18HI559m4+Cyt4qYm+OtfjTz/ZcugsRGqqlCXX87v+/0T8w4d0+b2udqiU2q6sQ43yReFJOQXPq8HIGROVWUZ/XtWMG+54btuDIZpDkWYt2wz9Y3BtM9X3xhk/c79Gb3XC6Iro/ISH13LApSX2KuyjbWKDwZD6MNNrLzvdwRnzILeveGb3zTy/r/9bXjpJdi9m/r/9zA/Cw9oUwIAC9fU2Z6rTMeaa/JFIXlFZ3vG3aKoVwT5QLZBu1xZeJ3Bb1y75yDrdu5n1IAebemhmbib6hqa6Bpu5tytq5m6pZpJ//gbXVqOEDq6Cq680sjzP/dcCLR/Peo+25/1POeDO9LtbKR8Ckp3hmfcK0QReEguHsxcWHhu+I3t7CSW7Fo/fe59/vDOjrbfrz5rIP9xySlAGu6mw4dhxQqGPv1nXnt+GV1ajrDvqO48N/xcVg6fwC8fvoWqHl1M35orSzof3JFuKaR8ErwSG0mOKAKPyOVmL9laeE77ja0Egl1BUbvnYJwSAPjD2zu4+sxBqQvHDh2CFSsMn//y5XD4MGW9e7N7+gx+UD6M9SeM5AitPYkslAAUXl5/rEJywmrPN8ErsZHkiCLwiFw+mNlaeE76ja0EwrDjuqUUFFEB9d6OL0zPvW7nfnNFEBX+Cxca/x8+DH36wNVXG26fCRMYFAjwUJoCMB9cO7nGKas93wRvscdGUiGKwCNy/WBm43Jw0tq1Egjrdib3uccKqOjuYYmMaq3WBQzhv3x5u+Xf1GQI/2uuaRP++P0d7juTeohCUADgrNWeb4K30FZ0uUYUgUOkzFHPswfTKWvXSiCMGtDDUlCYCaj4sjEjRjC4i4I//9kQ/itWGML/mGPg2ms5MO0SPvnqGfTvVWn7Xopta0YnrfZ8e76hMFd0uUIUgQPYXW7n24PphLVrJRAGH9PVUlCsN1ktVJYF+Nk3TqHlwJec9cHbHPuHJ+Dbf40T/syaBePHs+T9z4z5f2eNbXdHMW7N2NlbrWRCIa3oconSJvuw5hujR4/Wa9as8XoYtqhvDDLu/lVxHTHLS3zUzJlU1A9gOllDiXN4VHMTkz9Zw8/CWyl76QU4cgSOPdbI9585E8aPb3P7ZDL/9Y1Bxv58VYfeTWUBxVt3nlewn1t9Y5D/W72Dh1+tjdvjoJCVX7GhlFqrtR6d6jhZEeSYfAuS5QtWlpjZ61WVZfxy8oms+sUTXLSlmvG1aygPNcNxx8F11xnCf9y4Dj5/yGz+jZbeHXs3FfLWjLGrVtDcMOFErrColBYKH1EEOSbfgmTJyFXaYM7SDw8ehOefh0WLmPrCC0w9coSWPscSuu46uOJyGDvWVPjHku78Gy29t5n+rVC3ZjSLwTzyWi1XjBno8cgErxBF0EquhFk+BsnMyFXaYNbn+fLLNuHPCy8Y2zr27QvXXw+zZlEydmyr1WqPdOffaOnt75CZ5FfWWzPmU7VsJsiqVUhEFAGZCbNkwiAfg2Sx5CptMOPzWAn/733PcPuMHQtpCP9E0pl/sxVEiQ/+eusE0xqFfKqWzZTOtGoV3KHoFUEmwszufsf52r8lVxZhWuc5cKBd+L/4oiH8+/WD73/fEP5nnZWV8E/E7vwny2pKJN+qZTOls6xaBfcoekWQrlD0WhjkS3+i6Hmaw0nOc+AALF3aLvybm6F/f/jXfzWE/5ln5lT4Z4rdFUQhuVTyfdUquEvRK4J0haKZMPCh2PTpl0wY0tv0PbkMyuZLfyKA6tp9hGPmrsSveOjC46l6trXI66WX2oX/D35g5PmPGZMXwj8ROyuIQnOpSE69EKXoFUEyoRgV4F1KjQ3R+/esMBUGh1vCXP+HNTw4o6N1nkufcj71J1rzcT23L1pPKALdjjRyfu1qpm2tYeKD70FLCwwYADfeaFj+Dgp/NwO34lIRChVPCsqUUj2Ax4ARGJ0D/kVr/bbV8W4UlCUKlKgA1xFNMKwpLzEE2QPfPBWAOxavJxiKn7vEwqVcF5flS7HaT597n+de28wF21YzZWs1Z3/8HqWRELu79cb/rVn0+Zer4Gtfc1z4R3dmcztw29mzhoTiId8Lyn4NvKC1nqGUKgWO8mgcbSS25Y26YKJEf579zAZq5kzif64ezfef+juHm8NtxyRa57n2KUct0jsWb8DvU4QjLu9N3NDAx48t4NxHf89PPllHaSREXbfePHnGxawYOp4tA4dSc+d54OB4ograrxSHWufe7ViNuFSEQsN1RaCU6gZMAP4ZQGvdDDS7PY5kmAnwKH6lqGtoYnjf7kQSVlOJ/mInfMo6+q9ObMPmEA0N8NxzsGgRkZUvc0KohZJufXjyjItZPnQ8648bAkoR8Csessi7zxVmCjqWzhq4FQSv8WJFcCLwOfC/SqmRwFrgVq31IQ/GYoqZAI9yqDnMxk8PMHJAj5T+4nR8ynbcDVFBaLikDGv4jsXrc28Ff/EFLFliBHxXroRQiPDAgTw5ejpLTxrbJvxj+dN1Yxh9QlXGl7Rz/8kUNHTuwK0geIkXiiAAnA7crLVerZT6NXAncE/sQUqpG4AbAAYOdLf0PVaAR8IRmhPkzrxlm5k8/FhbAVc7x9gNKJsJwmBI83+rd3DzeSfZvj9TofvFF22WPy+/DKEQDBoEP/whzJzJxmMG86vH3+VgsOPeAFefNTArJWD3/q0UdJcyv/tuMkEoIFwPFiuljgXe0VoPav39bOBOrfVUq/d41X20vjHIq1v2MnfppjZ/NEDXsgBPXTeGkbEbo2RxjVQB4Njspam/fbNDkLos4OOtO+0FjGOFbpfG/TxauZNRq1+GV14xhP8JJxiZPjNnwhlntFn+ZuMM+OBP15+Z9UognQD40nW74lZY90wdxoh+3V0N3EqwWOgs5G2wWGv9mVJqp1LqZK31VuA8YLPb47BDVWUZE4f24e7n3o97PZcuiFQB5URr+fyhx7B842dx5wiGIjz25kdMHnGcZZvnLqV+Pj3QxH/94U0u+eAtpm6p5qwdGyiJhAkPGoT/ttuMPP/TT+/g9onOhZmbKxslYOf+E/G6EKoQWkwIQiJeZQ3dDCxozRj6CLjWi0HYseyqa/cRiTHA/YqcuiCSBZTNCshe3rKXUr+iORy/Kvjd6x/xx3e2E2p1kcRuDt/j8AHO3VTDtA9rqPlkPQEdYXuPY3nsny7jtVPO4a57rmTkwJ4px+qEEM4koO5V1o7XVeWC4BSeKAKt9Tog5XLFSexYdtEvfkuM0A1rTP3kmZIsoGy2U1ep38f0kX1Z8O6ODudqDBruq9nPbGBEaQtr7v5/zN/8JmO3G8L/kx7HMX/MN1h+8ng2HfMVUIryEh/9jzbP3jVTlLkWwp2lSCvqJvQnrJYkU0koBIqystiuZVfX0NThiw9w7/NGsDhXX34rS9vKWr523CAWrd1BTNgCgKMPH+DrH77N9A9rGPSzDcwLh9uF/9Cz2dTnxDa3z1ElfiJYB1jddIF47e5JRXQuAj4VFysCyVQSCoOiVAR2/dL9e1bQEu6YpVLiVymtwHQDilY7dVl1xrx50hB+ufJDjj58gMkfvsWULdWcueN9w/Lv2Zf9N/4b3z08iPeOHtTB518W8PHod86w3KDdCxdIvhZpWdUudCn1E9aSqSQUBkWpCOz6pasqy5h78XDufm5j3OvhiG7z4ZsJ+1xa06bW8t69XLvxRUb/+TG+tv19/DrCRz378uiZM1g57Gy+e+OlTD+tP9eu28XGmA3Zwcj0eXDGqZYN8iA3FdGFklljNhddyvzce/FwJg7t06nvTRCiFKUiSOWXjhViV555PCjDHVTib2/rUF27z1TYO2FNV1WWUXX4ADz1JyPP/7XXqIxEOOX4E5k/diYvDz+Hjb0GctOkITwRs+/suMG98CV4tvw+H+MG90p6vWwrogsps8ZsLsIRLUpAKCiKUhGAtV/aTIhdOeZ4Jg8/tu1YoC33PVHY57S/0J498OyzhvB//XWIRGDIEPjxj2HWLCpPOYVZh5oZa2F5m23DWOpPPZZsAriFllnTWYLZgpANRasIoKNfOpUQix5rls0TFfZZ9xf67LN24f/GG4bwP/lkuOsuo8jrlFNAKWPVUneA/j0rLAvbshlLpgFcM0UY7c/UWYVnvgezBSFbiloRJGLXmu9S6icYMs8eyciC/OwzeOaZduGvNQwdCnffbQj/ESPiAr6xWSzNYc3ci4dx5ZjjO5w2W2s2kwCumfKJ7c/UWcnXYLYg5AJRBDHYsaCjQtjnUxDWlPkVyqfiBKwtC9JM+H/1q3DPPYbwHz7ctMLXLIvl7r9sBI0Rz0jAbWu2qrKMe6YO6xBgj/ZnEmEqCPmHKIIY7ASRE4WwVorlN43vsNm5qQW5e3e78H/zzXjhP2uWIfxTUNfQRCAxAgzc+/wmJo8wF7RuW7Mj+nWnsszfVuAGUnglCPmMKIIEklnQZq6jMr+vQ5FRHJ9+2i78q6sN4T9sGPz0p+2WfxoYG8Z3bBRYYiMI7Bb9e1YQiiTfq0EQhPxBFIEJVha07eDrrl3twr+mxhD+w4fD3LmG8B82LKuxzb14mOEOiiGsdd4IWsm0EYTOhSiCNEgq4MyE/4gR8O//bgj/r341Z+O4cszxoA13UInfl5cVrpJpIwidB082r08Xr/YjsCJacDaw6Qt6/vX5duEPhvCP9vPPofBPNg4RtIIgmJG3+xF0eurqqFq8mKpFi+Ctt4zXTjkF/uM/DOE/dKgjl3WjE6ggCMVJUSsC2xb1zp2weLFh+b/9tvHaqafCvHmG8D/5ZEfHmauWDbKCEATBjKJVBEvW7WL24g34fUb/oAdnJAhXM+E/ciT8538awn/IEFfGmara2a5wL6T+P4Ig5JaiVAT1jUF+lNCV8/ZF6zm77HC7z/+dd4w/eCD8Y0lW7WzV+C6RQuv/IwhCbilKRbDp0wNtSqDfgb1ctLWaqVtq6PlfW40DRo2C++4zhP9JJ3k4UuuU1S6lftvCPaeN8ARBKDgKXhGYuU7KdtVx/epnmbq1mlG7PwRg4zFf4ePb7uaEf/1nGDzYwxHHY5Wyeqg5bFu4Z90ITxCEgqagFUGsX7zPF7v5Tck/GF7zEmPefZcxwPvHfIX7z7mGFSePY1dVX1bfdT7koYVslpNf3xi0LdylwEsQhGQUrCKobwzym8dXcvXGN5iytZpRu7cBEBp1GoGf/YyXh5/NjasP4Fc+wjrCQzNG5rVgTEwVTVe4S4GXIAhWFGxB2fqd+6m95HK++d6LbDh2MCtOHs/rp0zg57Mva2uH3NnSKc3G29nuQRAE9yj6grL+PSv40Vmz+NXXZrKzx7EAlJf44lwnbhZkZSuwrdI/pahMEIRs8Xk9AKeoqizj5uu/zue9+9K1LEB5ic8zv/iSdbsYd/8qrnpsNePuX8XSdbvSen9s+ufBYIgjLRFmP7OB+sagQyMWBKGYKNgVAeSHXzwXOfyS/ikIgpMUtCIA7/vx5EKIS/qnIAhOUrCuoXwhF0I8miFUXuJL6uaqbwyyfud+cRkJgpAWBb8i8Jpc5fCncnNJLyFBEDJFFIEL5CpWYeXmkl5CgiBkgygCl3AyViHBZEEQskFiBAWABJMFQcgGUQQFgN1gsiAIghniGioQ8qFmQhCEzokoggIimziE9CwShOJFFIEgqaeCUORIjKDIkT5GgiCIIihyoqmnsURTTwVBKA48UwRKKb9S6j2l1DKvxiBI6qkgCN6uCG4FPvDw+gKSeioIgkfBYqVUf2AqcB9wmxdjENqR1FNBKG68yhr6FTAb6OrGxZxOjXTy/G6ldXrdrlsQBO9wXREopaYBe7XWa5VS5yY57gbgBoCBAwdmfD2nUyOdPL+kdQqC4AZexAjGAdOVUp8AfwImKaWeSjxIaz1faz1aaz26d+/eGV3I6dRIJ88vaZ2CILiF64pAa/1jrXV/rfUg4HJgldb6KieulW5qZLobuziZeilpnYIguEVBVxankxqZiRvGydRLSesUBMEtPC0o01q/prWe5tT509niMRM3jJOpl5LWKQiCWxT0igDspUZms7GLk6mXktYpCIIbFLwigNSpkdm6YZxMvfQirVM6kQpCcVEUiiAVudpgvhCQlFVBKD5EEbQibpj4WEnUTTb7mQ2MG9yrKOdDEIoFUQQxFHt1bTaxEkEQOi/ShlpoQ1JWBaE4EUUgtCEpq4JQnIhrSIhDYiWCUHyIIhA6UOyxEkEoNsQ1JAiCUOSIIhAEQShyRBEUAel2VRUEobiQGEGBI5XCgiCkQlYEBYxsbiMIgh1EERQwsrmNIAh2EEVQwEilsCAIdhBFUMBIpbAgCHaQYHGBI5XCgiCkQhRBESCVwoIgJENcQ4IgCEWOKAJBEIQiRxSBIAhCkSOKQBAEocgRRSAIglDkKK2112NIiVLqc2B7hm/vBezL4XA6A3LPxYHcc3GQzT0fr7XuneqgTqEIskEptUZrPdrrcbiJ3HNxIPdcHLhxz+IaEgRBKHJEEQiCIBQ5xaAI5ns9AA+Qey4O5J6LA8fvueBjBIIgCEJyimFFIAiCICShoBWBUmqyUmqrUqpWKXWn1+NxGqXUAKXUq0qpD5RSm5RSt3o9JjdQSvmVUu8ppZZ5PRY3UEr1UEotVkptaf2sz/J6TE6jlPph6zO9USn1tFKq3Osx5Rql1BNKqb1KqY0xrx2tlFqplNrW+n9PJ65dsIpAKeUHHgEuAoYB31ZKDfN2VI4TAm7XWn8VOBO4sQjuGeBW4AOvB+EivwZe0FoPBUZS4PeulOoH3AKM1lqPAPzA5d6OyhGeBCYnvHYn8IrW+iTgldbfc07BKgLga0Ct1vojrXUz8CfgEo/H5Cha691a67+3/nwQQ0AU9E71Sqn+wFTgMa/H4gZKqW7ABOBxAK11s9Z6v7ejcoUAUKGUCgBHAZ96PJ6co7V+A/gi4eVLgN+3/vx74FInrl3IiqAfsDPm9zoKXCjGopQaBJwGrPZ2JI7zK2A2EEl1YIFwIvA58L+t7rDHlFJdvB6Uk2itdwG/AHYAu4EDWuuXvB2Vaxyjtd4NhqEH9HHiIoWsCJTJa0WRIqWUqgSeAf5Na/2l1+NxCqXUNGCv1nqt12NxkQBwOvA7rfVpwCEcchfkC61+8UuAE4C+QBel1FXejqqwKGRFUAcMiPm9PwW4nExEKVWCoQQWaK2f9Xo8DjMOmK6U+gTD9TdJKfWUt0NynDqgTmsdXektxlAMhcz5wMda68+11i3As8BYj8fkFnuUUscBtP6/14mLFLIi+BtwklLqBKVUKUZwaanHY3IUpZTC8B1/oLV+yOvxOI3W+sda6/5a60EYn+8qrXVBW4pa68+AnUqpk1tfOg/Y7OGQ3GAHcKZS6qjWZ/w8CjxAHsNS4JrWn68BljhxkYLds1hrHVJK3QS8iJFl8ITWepPHw3KaccB3gPeVUutaX7tLa73CwzEJuedmYEGrgfMRcK3H43EUrfVqpdRi4O8YmXHvUYAVxkqpp4FzgV5KqTpgLvBzYKFS6rsYCnGmI9eWymJBEITippBdQ4IgCIINRBEIgiAUOaIIBEEQihxRBIIgCEWOKAJBEIQiRxSBULS0dmv9WCl1dOvvPVt/P97k2LBSal1rB8z1SqnblFJJvz9KqUFKqSucGr8g5ApRBELRorXeCfwOI1eb1v/na623mxzepLUepbUeDlwATMHI807GIEAUgZD3SB2BUNS0tuRYCzwBXA+c1tqtNvG4Rq11ZczvJ2JUr/cCjgf+CESbv92ktX5LKfUO8FXgY4zOkX8xO86RGxOENBBFIBQ9SqmvAy8AF2qtV1ocE6cIWl9rAIYCB4GI1vqIUuok4Gmt9Wil1LnAj7TW01qPP8rsOOfuTBDsUbAtJgQhDS7CaG88AjBVBBZEO9yWAA8rpUYBYWCIxfF2jxMEVxFFIBQ1rUL5Aowd3aqVUn+K9n9P8b4TMYT5XoxYwR6M3cJ8wBGLt/3Q5nGC4CoSLBaKltZOlr/D2LdhB/AgxgYoqd7XG3gUeFgbvtXuwG6tdQSj6Z+/9dCDQNeYt1odJwieIopAKGauB3bExAX+GxiqlDrH5NiKaPoo8DLwEnBvzPuuaQ0OD8HYLAZgAxBqTTf9YZLjBMFTJFgsCIJQ5MiKQBAEocgRRSAIglDkiCIQBEEockQRCIIgFDmiCARBEIocUQSCIAhFjigCQRCEIkcUgSAIQpHz/wGXMft/OfVq1gAAAABJRU5ErkJggg==\n",
      "text/plain": [
       "<Figure size 432x288 with 1 Axes>"
      ]
     },
     "metadata": {},
     "output_type": "display_data"
    }
   ],
   "source": [
    "y_hat = model_m * x_data + model_b\n",
    "my_data.sample(n=250).plot(kind= 'scatter', x='X Data', y='Y')\n",
    "plt.plot(x_data, y_hat, 'r')"
   ]
  },
  {
   "cell_type": "markdown",
   "metadata": {},
   "source": [
    "#### Tensorflow estimator API\n",
    "\n",
    "1.Define a list of feature columns    \n",
    "2.Create Estimator model   \n",
    "3.Create a Data Input function  \n",
    "4.Call, train, evaluate and predict methods on the estimator object"
   ]
  },
  {
   "cell_type": "code",
   "execution_count": 24,
   "metadata": {},
   "outputs": [],
   "source": [
    "feat_cols = [tf.feature_column.numeric_column('x',shape=[1])]"
   ]
  },
  {
   "cell_type": "code",
   "execution_count": 25,
   "metadata": {},
   "outputs": [
    {
     "name": "stdout",
     "output_type": "stream",
     "text": [
      "INFO:tensorflow:Using default config.\n",
      "WARNING:tensorflow:Using temporary folder as model directory: C:\\Users\\pasan\\AppData\\Local\\Temp\\tmpn84f0398\n",
      "INFO:tensorflow:Using config: {'_model_dir': 'C:\\\\Users\\\\pasan\\\\AppData\\\\Local\\\\Temp\\\\tmpn84f0398', '_tf_random_seed': None, '_save_summary_steps': 100, '_save_checkpoints_steps': None, '_save_checkpoints_secs': 600, '_session_config': None, '_keep_checkpoint_max': 5, '_keep_checkpoint_every_n_hours': 10000, '_log_step_count_steps': 100, '_train_distribute': None, '_service': None, '_cluster_spec': <tensorflow.python.training.server_lib.ClusterSpec object at 0x0000029968FB1BA8>, '_task_type': 'worker', '_task_id': 0, '_global_id_in_cluster': 0, '_master': '', '_evaluation_master': '', '_is_chief': True, '_num_ps_replicas': 0, '_num_worker_replicas': 1}\n"
     ]
    }
   ],
   "source": [
    "estimator = tf.estimator.LinearRegressor(feature_columns= feat_cols)"
   ]
  },
  {
   "cell_type": "markdown",
   "metadata": {},
   "source": [
    "#### Train Test Split"
   ]
  },
  {
   "cell_type": "code",
   "execution_count": 27,
   "metadata": {},
   "outputs": [],
   "source": [
    "from sklearn.model_selection import train_test_split"
   ]
  },
  {
   "cell_type": "code",
   "execution_count": 28,
   "metadata": {},
   "outputs": [],
   "source": [
    "x_train, x_eval, y_train, y_eval = train_test_split(x_data, y_true, test_size = 0.3, random_state= 101 )"
   ]
  },
  {
   "cell_type": "markdown",
   "metadata": {},
   "source": [
    "#### Setup estimator inputs"
   ]
  },
  {
   "cell_type": "code",
   "execution_count": 29,
   "metadata": {},
   "outputs": [],
   "source": [
    "input_func = tf.estimator.inputs.numpy_input_fn({'x': x_train}, y_train, batch_size=8, num_epochs=None,shuffle= True )"
   ]
  },
  {
   "cell_type": "code",
   "execution_count": 30,
   "metadata": {},
   "outputs": [],
   "source": [
    "train_input_func = tf.estimator.inputs.numpy_input_fn({'x': x_train}, y_train, batch_size=8, num_epochs=1000, shuffle= False )"
   ]
  },
  {
   "cell_type": "code",
   "execution_count": 31,
   "metadata": {},
   "outputs": [],
   "source": [
    "eval_input_func = tf.estimator.inputs.numpy_input_fn({'x': x_eval}, y_eval, batch_size=8, num_epochs=1000, shuffle= False )"
   ]
  },
  {
   "cell_type": "markdown",
   "metadata": {},
   "source": [
    "#### Train the estimator"
   ]
  },
  {
   "cell_type": "code",
   "execution_count": 32,
   "metadata": {},
   "outputs": [
    {
     "name": "stdout",
     "output_type": "stream",
     "text": [
      "INFO:tensorflow:Calling model_fn.\n",
      "INFO:tensorflow:Done calling model_fn.\n",
      "INFO:tensorflow:Create CheckpointSaverHook.\n",
      "INFO:tensorflow:Graph was finalized.\n",
      "INFO:tensorflow:Running local_init_op.\n",
      "INFO:tensorflow:Done running local_init_op.\n",
      "INFO:tensorflow:Saving checkpoints for 1 into C:\\Users\\pasan\\AppData\\Local\\Temp\\tmpn84f0398\\model.ckpt.\n",
      "INFO:tensorflow:loss = 479.68536, step = 1\n",
      "INFO:tensorflow:global_step/sec: 391.465\n",
      "INFO:tensorflow:loss = 34.96376, step = 101 (0.255 sec)\n",
      "INFO:tensorflow:global_step/sec: 580.339\n",
      "INFO:tensorflow:loss = 29.131058, step = 201 (0.172 sec)\n",
      "INFO:tensorflow:global_step/sec: 618.59\n",
      "INFO:tensorflow:loss = 45.52458, step = 301 (0.161 sec)\n",
      "INFO:tensorflow:global_step/sec: 646.459\n",
      "INFO:tensorflow:loss = 11.481478, step = 401 (0.156 sec)\n",
      "INFO:tensorflow:global_step/sec: 654.418\n",
      "INFO:tensorflow:loss = 11.225479, step = 501 (0.151 sec)\n",
      "INFO:tensorflow:global_step/sec: 691.387\n",
      "INFO:tensorflow:loss = 15.331537, step = 601 (0.146 sec)\n",
      "INFO:tensorflow:global_step/sec: 672.795\n",
      "INFO:tensorflow:loss = 6.3707066, step = 701 (0.149 sec)\n",
      "INFO:tensorflow:global_step/sec: 615.132\n",
      "INFO:tensorflow:loss = 3.3494394, step = 801 (0.164 sec)\n",
      "INFO:tensorflow:global_step/sec: 638.649\n",
      "INFO:tensorflow:loss = 7.463769, step = 901 (0.156 sec)\n",
      "INFO:tensorflow:Saving checkpoints for 1000 into C:\\Users\\pasan\\AppData\\Local\\Temp\\tmpn84f0398\\model.ckpt.\n",
      "INFO:tensorflow:Loss for final step: 4.5433826.\n"
     ]
    },
    {
     "data": {
      "text/plain": [
       "<tensorflow.python.estimator.canned.linear.LinearRegressor at 0x29968fb1860>"
      ]
     },
     "execution_count": 32,
     "metadata": {},
     "output_type": "execute_result"
    }
   ],
   "source": [
    "estimator.train(input_fn = input_func, steps= 1000)"
   ]
  },
  {
   "cell_type": "markdown",
   "metadata": {},
   "source": [
    "### Evaluation"
   ]
  },
  {
   "cell_type": "code",
   "execution_count": 33,
   "metadata": {},
   "outputs": [
    {
     "name": "stdout",
     "output_type": "stream",
     "text": [
      "INFO:tensorflow:Calling model_fn.\n",
      "INFO:tensorflow:Done calling model_fn.\n",
      "INFO:tensorflow:Starting evaluation at 2018-12-22-05:22:33\n",
      "INFO:tensorflow:Graph was finalized.\n",
      "INFO:tensorflow:Restoring parameters from C:\\Users\\pasan\\AppData\\Local\\Temp\\tmpn84f0398\\model.ckpt-1000\n",
      "INFO:tensorflow:Running local_init_op.\n",
      "INFO:tensorflow:Done running local_init_op.\n",
      "INFO:tensorflow:Evaluation [100/1000]\n",
      "INFO:tensorflow:Evaluation [200/1000]\n",
      "INFO:tensorflow:Evaluation [300/1000]\n",
      "INFO:tensorflow:Evaluation [400/1000]\n",
      "INFO:tensorflow:Evaluation [500/1000]\n",
      "INFO:tensorflow:Evaluation [600/1000]\n",
      "INFO:tensorflow:Evaluation [700/1000]\n",
      "INFO:tensorflow:Evaluation [800/1000]\n",
      "INFO:tensorflow:Evaluation [900/1000]\n",
      "INFO:tensorflow:Evaluation [1000/1000]\n",
      "INFO:tensorflow:Finished evaluation at 2018-12-22-05:22:35\n",
      "INFO:tensorflow:Saving dict for global step 1000: average_loss = 1.0876828, global_step = 1000, loss = 8.701463\n"
     ]
    }
   ],
   "source": [
    "train_metrics = estimator.evaluate(input_fn= train_input_func, steps=1000) "
   ]
  },
  {
   "cell_type": "code",
   "execution_count": 34,
   "metadata": {},
   "outputs": [
    {
     "name": "stdout",
     "output_type": "stream",
     "text": [
      "INFO:tensorflow:Calling model_fn.\n",
      "INFO:tensorflow:Done calling model_fn.\n",
      "INFO:tensorflow:Starting evaluation at 2018-12-22-05:23:55\n",
      "INFO:tensorflow:Graph was finalized.\n",
      "INFO:tensorflow:Restoring parameters from C:\\Users\\pasan\\AppData\\Local\\Temp\\tmpn84f0398\\model.ckpt-1000\n",
      "INFO:tensorflow:Running local_init_op.\n",
      "INFO:tensorflow:Done running local_init_op.\n",
      "INFO:tensorflow:Evaluation [100/1000]\n",
      "INFO:tensorflow:Evaluation [200/1000]\n",
      "INFO:tensorflow:Evaluation [300/1000]\n",
      "INFO:tensorflow:Evaluation [400/1000]\n",
      "INFO:tensorflow:Evaluation [500/1000]\n",
      "INFO:tensorflow:Evaluation [600/1000]\n",
      "INFO:tensorflow:Evaluation [700/1000]\n",
      "INFO:tensorflow:Evaluation [800/1000]\n",
      "INFO:tensorflow:Evaluation [900/1000]\n",
      "INFO:tensorflow:Evaluation [1000/1000]\n",
      "INFO:tensorflow:Finished evaluation at 2018-12-22-05:23:57\n",
      "INFO:tensorflow:Saving dict for global step 1000: average_loss = 1.0872262, global_step = 1000, loss = 8.697809\n"
     ]
    }
   ],
   "source": [
    "eval_metrics = estimator.evaluate(input_fn= eval_input_func, steps=1000) "
   ]
  },
  {
   "cell_type": "code",
   "execution_count": 41,
   "metadata": {},
   "outputs": [
    {
     "name": "stdout",
     "output_type": "stream",
     "text": [
      "TRAIN METRICS: {'average_loss': 1.0876828, 'loss': 8.701463, 'global_step': 1000}\n",
      "EVAL METRICS : {'average_loss': 1.0872262, 'loss': 8.697809, 'global_step': 1000}\n"
     ]
    }
   ],
   "source": [
    "print(\"TRAIN METRICS: {}\".format(train_metrics))\n",
    "print(\"EVAL METRICS : {}\".format(eval_metrics))"
   ]
  },
  {
   "cell_type": "markdown",
   "metadata": {},
   "source": [
    "### Predictions"
   ]
  },
  {
   "cell_type": "code",
   "execution_count": 44,
   "metadata": {},
   "outputs": [],
   "source": [
    "input_fn_predict = tf.estimator.inputs.numpy_input_fn({'x': np.linspace(0,10,10)}, shuffle= False)"
   ]
  },
  {
   "cell_type": "code",
   "execution_count": 45,
   "metadata": {},
   "outputs": [
    {
     "name": "stdout",
     "output_type": "stream",
     "text": [
      "INFO:tensorflow:Calling model_fn.\n",
      "INFO:tensorflow:Done calling model_fn.\n",
      "INFO:tensorflow:Graph was finalized.\n",
      "INFO:tensorflow:Restoring parameters from C:\\Users\\pasan\\AppData\\Local\\Temp\\tmpn84f0398\\model.ckpt-1000\n",
      "INFO:tensorflow:Running local_init_op.\n",
      "INFO:tensorflow:Done running local_init_op.\n"
     ]
    },
    {
     "data": {
      "text/plain": [
       "[{'predictions': array([4.4170084], dtype=float32)},\n",
       " {'predictions': array([5.059545], dtype=float32)},\n",
       " {'predictions': array([5.702081], dtype=float32)},\n",
       " {'predictions': array([6.344618], dtype=float32)},\n",
       " {'predictions': array([6.987154], dtype=float32)},\n",
       " {'predictions': array([7.62969], dtype=float32)},\n",
       " {'predictions': array([8.272226], dtype=float32)},\n",
       " {'predictions': array([8.914763], dtype=float32)},\n",
       " {'predictions': array([9.557301], dtype=float32)},\n",
       " {'predictions': array([10.199837], dtype=float32)}]"
      ]
     },
     "execution_count": 45,
     "metadata": {},
     "output_type": "execute_result"
    }
   ],
   "source": [
    "list(estimator.predict(input_fn = input_fn_predict))"
   ]
  },
  {
   "cell_type": "code",
   "execution_count": 46,
   "metadata": {},
   "outputs": [
    {
     "name": "stdout",
     "output_type": "stream",
     "text": [
      "INFO:tensorflow:Calling model_fn.\n",
      "INFO:tensorflow:Done calling model_fn.\n",
      "INFO:tensorflow:Graph was finalized.\n",
      "INFO:tensorflow:Restoring parameters from C:\\Users\\pasan\\AppData\\Local\\Temp\\tmpn84f0398\\model.ckpt-1000\n",
      "INFO:tensorflow:Running local_init_op.\n",
      "INFO:tensorflow:Done running local_init_op.\n"
     ]
    }
   ],
   "source": [
    "predictions= []\n",
    "\n",
    "for x in estimator.predict(input_fn = input_fn_predict):\n",
    "    predictions.append(x['predictions'])"
   ]
  },
  {
   "cell_type": "code",
   "execution_count": 47,
   "metadata": {},
   "outputs": [
    {
     "data": {
      "text/plain": [
       "[array([4.4170084], dtype=float32),\n",
       " array([5.059545], dtype=float32),\n",
       " array([5.702081], dtype=float32),\n",
       " array([6.344618], dtype=float32),\n",
       " array([6.987154], dtype=float32),\n",
       " array([7.62969], dtype=float32),\n",
       " array([8.272226], dtype=float32),\n",
       " array([8.914763], dtype=float32),\n",
       " array([9.557301], dtype=float32),\n",
       " array([10.199837], dtype=float32)]"
      ]
     },
     "execution_count": 47,
     "metadata": {},
     "output_type": "execute_result"
    }
   ],
   "source": [
    "predictions"
   ]
  },
  {
   "cell_type": "code",
   "execution_count": 48,
   "metadata": {},
   "outputs": [
    {
     "data": {
      "text/plain": [
       "[<matplotlib.lines.Line2D at 0x2996a7565f8>]"
      ]
     },
     "execution_count": 48,
     "metadata": {},
     "output_type": "execute_result"
    },
    {
     "data": {
      "image/png": "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