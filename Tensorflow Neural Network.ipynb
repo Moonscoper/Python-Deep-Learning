
{
 "cells": [
  {
   "cell_type": "markdown",
   "metadata": {},
   "source": [
    "# First Tensorflow Neural Network"
   ]
  },
  {
   "cell_type": "markdown",
   "metadata": {},
   "source": [
    "## TF GRAPHS"
   ]
  },
  {
   "cell_type": "code",
   "execution_count": 1,
   "metadata": {},
   "outputs": [],
   "source": [
    "import numpy as np\n",
    "import tensorflow as tf"
   ]
  },
  {
   "cell_type": "code",
   "execution_count": 2,
   "metadata": {},
   "outputs": [],
   "source": [
    "np.random.seed(101)\n",
    "tf.set_random_seed(101)"
   ]
  },
  {
   "cell_type": "markdown",
   "metadata": {},
   "source": [
    "### Data setup\n",
    "Setting up some random data for demostration"
   ]
  },
  {
   "cell_type": "code",
   "execution_count": 3,
   "metadata": {},
   "outputs": [],
   "source": [
    "rand_a = np.random.uniform(0,100, (5,5))"
   ]
  },
  {
   "cell_type": "code",
   "execution_count": 4,
   "metadata": {},
   "outputs": [
    {
     "data": {
      "text/plain": [
       "array([[51.63986277, 57.06675869,  2.84742265, 17.15216562, 68.52769817],\n",
       "       [83.38968626, 30.69662197, 89.36130797, 72.15438618, 18.99389542],\n",
       "       [55.42275911, 35.2131954 , 18.18924027, 78.56017619, 96.54832224],\n",
       "       [23.23536618,  8.35614337, 60.35484223, 72.89927573, 27.62388285],\n",
       "       [68.53063288, 51.78674742,  4.84845374, 13.78692376, 18.69674261]])"
      ]
     },
     "execution_count": 4,
     "metadata": {},
     "output_type": "execute_result"
    }
   ],
   "source": [
    "rand_a"
   ]
  },
  {
   "cell_type": "code",
   "execution_count": 5,
   "metadata": {},
   "outputs": [],
   "source": [
    "rand_b = np.random.uniform(0,100, (5,1))"
   ]
  },
  {
   "cell_type": "code",
   "execution_count": 6,
   "metadata": {},
   "outputs": [
    {
     "data": {
      "text/plain": [
       "array([[99.43179012],\n",
       "       [52.06653967],\n",
       "       [57.87895355],\n",
       "       [73.48190583],\n",
       "       [54.19617722]])"
      ]
     },
     "execution_count": 6,
     "metadata": {},
     "output_type": "execute_result"
    }
   ],
   "source": [
    "rand_b"
   ]
  },
  {
   "cell_type": "markdown",
   "metadata": {},
   "source": [
    "### Placeholders"
   ]
  },
  {
   "cell_type": "code",
   "execution_count": 7,
   "metadata": {},
   "outputs": [],
   "source": [
    "a = tf.placeholder(tf.float32)"
   ]
  },
  {
   "cell_type": "code",
   "execution_count": 8,
   "metadata": {},
   "outputs": [],
   "source": [
    "b = tf.placeholder(tf.float32)"
   ]
  },
  {
   "cell_type": "markdown",
   "metadata": {},
   "source": [
    "### Operations"
   ]
  },
  {
   "cell_type": "code",
   "execution_count": 9,
   "metadata": {},
   "outputs": [],
   "source": [
    "add_op = a + b"
   ]
  },
  {
   "cell_type": "code",
   "execution_count": 10,
   "metadata": {},
   "outputs": [],
   "source": [
    "mul_op = a * b"
   ]
  },
  {
   "cell_type": "markdown",
   "metadata": {},
   "source": [
    "We can use tf.add() and tf.multiply() methods but what is so good about Tensorflow is that it can understand Python builtin operations"
   ]
  },
  {
   "cell_type": "markdown",
   "metadata": {},
   "source": [
    "### Sessions"
   ]
  },
  {
   "cell_type": "code",
   "execution_count": 11,
   "metadata": {},
   "outputs": [
    {
     "name": "stdout",
     "output_type": "stream",
     "text": [
      "[[151.07166  156.49855  102.27921  116.58396  167.95949 ]\n",
      " [135.45622   82.76316  141.42784  124.22093   71.06043 ]\n",
      " [113.30171   93.09215   76.06819  136.43912  154.42728 ]\n",
      " [ 96.71727   81.83804  133.83675  146.38118  101.10579 ]\n",
      " [122.72681  105.982925  59.044632  67.9831    72.89292 ]]\n",
      "\n",
      "\n",
      "[[5134.644   5674.25     283.12433 1705.4707  6813.8315 ]\n",
      " [4341.8125  1598.267   4652.734   3756.8293   988.94635]\n",
      " [3207.8113  2038.1029  1052.7742  4546.9805  5588.1157 ]\n",
      " [1707.379    614.02527 4434.989   5356.7773  2029.8555 ]\n",
      " [3714.0984  2806.6438   262.76764  747.19855 1013.292  ]]\n"
     ]
    }
   ],
   "source": [
    "with tf.Session() as sess:\n",
    "    add_result = sess.run(add_op, feed_dict= {a:rand_a, b:rand_b})\n",
    "    print(add_result)\n",
    "    \n",
    "    print('\\n')\n",
    "    \n",
    "    mult_result = sess.run(mul_op, feed_dict= {a:rand_a, b:rand_b})\n",
    "    print(mult_result)"
   ]
  },
  {
   "cell_type": "markdown",
   "metadata": {},
   "source": [
    "Above is the really simple example of running session by creating graphs with feed dictionary"
   ]
  },
  {
   "cell_type": "markdown",
   "metadata": {},
   "source": [
    "### Example Neural Network"
   ]
  },
  {
   "cell_type": "code",
   "execution_count": 12,
   "metadata": {},
   "outputs": [],
   "source": [
    "n_features = 10\n",
    "n_dense_neurons = 3"
   ]
  },
  {
   "cell_type": "code",
   "execution_count": 13,
   "metadata": {},
   "outputs": [],
   "source": [
    "x = tf.placeholder(tf.float32, (None, n_features))"
   ]
  },
  {
   "cell_type": "code",
   "execution_count": 14,
   "metadata": {},
   "outputs": [],
   "source": [
    "W = tf.Variable(tf.random_normal([n_features, n_dense_neurons]))\n",
    "b = tf.Variable(tf.ones([n_dense_neurons]))"
   ]
  },
  {
   "cell_type": "markdown",
   "metadata": {},
   "source": [
    "Here, W is going to be multiplied by x. So, we have to make sure that dimension of x should match the dimension of W. For bias b, it needs to match the number of neurons"
   ]
  },
  {
   "cell_type": "markdown",
   "metadata": {},
   "source": [
    "### Operation Activation function"
   ]
  },
  {
   "cell_type": "code",
   "execution_count": 15,
   "metadata": {},
   "outputs": [],
   "source": [
    "xW = tf.matmul(x,W)\n",
    "\n",
    "z = tf.add(xW,b)"
   ]
  },
  {
   "cell_type": "code",
   "execution_count": 16,
   "metadata": {},
   "outputs": [],
   "source": [
    "a = tf.sigmoid(z)"
   ]
  },
  {
   "cell_type": "markdown",
   "metadata": {},
   "source": [
    "### Variable initializer !!!"
   ]
  },
  {
   "cell_type": "code",
   "execution_count": 17,
   "metadata": {},
   "outputs": [],
   "source": [
    "init = tf.global_variables_initializer()"
   ]
  },
  {
   "cell_type": "code",
   "execution_count": 18,
   "metadata": {},
   "outputs": [],
   "source": [
    "with tf.Session() as sess:\n",
    "    \n",
    "    sess.run(init)\n",
    "    \n",
    "    layer_out = sess.run(a, feed_dict= {x: np.random.random([1,n_features])})"
   ]
  },
  {
   "cell_type": "code",
   "execution_count": 19,
   "metadata": {},
   "outputs": [
    {
     "name": "stdout",
     "output_type": "stream",
     "text": [
      "[[0.19592889 0.8423014  0.36188066]]\n"
     ]
    }
   ],
   "source": [
    "print(layer_out)"
   ]
  },
  {
   "cell_type": "markdown",
   "metadata": {},
   "source": [
    "### Simple regression example"
   ]
  },
  {
   "cell_type": "code",
   "execution_count": 20,
   "metadata": {},
   "outputs": [],
   "source": [
    "x_data = np.linspace(0,10,10) + np.random.uniform(-1.5,1.5,10)"
   ]
  },
  {
   "cell_type": "code",
   "execution_count": 21,
   "metadata": {},
   "outputs": [
    {
     "data": {
      "text/plain": [
       "array([-1.20856056, -0.08034641,  2.82674411,  4.50477294,  3.42312535,\n",
       "        4.88227319,  7.18414126,  6.77068715,  9.4930023 ,  9.96290567])"
      ]
     },
     "execution_count": 21,
     "metadata": {},
     "output_type": "execute_result"
    }
   ],
   "source": [
    "x_data"
   ]
  },
  {
   "cell_type": "code",
   "execution_count": 22,
   "metadata": {},
   "outputs": [],
   "source": [
    "y_label = np.linspace(0,10,10) + np.random.uniform(-1.5,1.5,10)"
   ]
  },
  {
   "cell_type": "code",
   "execution_count": 24,
   "metadata": {},
   "outputs": [],
   "source": [
    "import matplotlib.pyplot as plt"
   ]
  },
  {
   "cell_type": "code",
   "execution_count": 25,
   "metadata": {},
   "outputs": [
    {
     "data": {
      "text/plain": [
       "[<matplotlib.lines.Line2D at 0x214ceecb4a8>]"
      ]
     },
     "execution_count": 25,
     "metadata": {},
     "output_type": "execute_result"
    },
    {
     "data": {
      "image/png": "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\n",
      "text/plain": [
       "<Figure size 432x288 with 1 Axes>"
      ]
     },
     "metadata": {},
     "output_type": "display_data"
    }
   ],
   "source": [
    "plt.plot(x_data, y_label, '.')"
   ]
  },
  {
   "cell_type": "markdown",
   "metadata": {},
   "source": [
    "y = mx+b\n",
    "#### Variables"
   ]
  },
  {
   "cell_type": "code",
   "execution_count": 27,
   "metadata": {},
   "outputs": [
    {
     "data": {
      "text/plain": [
       "array([0.47816742, 0.46111934])"
      ]
     },
     "execution_count": 27,
     "metadata": {},
     "output_type": "execute_result"
    }
   ],
   "source": [
    "np.random.rand(2)"
   ]
  },
  {
   "cell_type": "code",
   "execution_count": 28,
   "metadata": {},
   "outputs": [],
   "source": [
    "m = tf.Variable(0.47)\n",
    "b = tf.Variable(0.46)"
   ]
  },
  {
   "cell_type": "markdown",
   "metadata": {},
   "source": [
    "### Cost function"
   ]
  },
  {
   "cell_type": "code",
   "execution_count": 29,
   "metadata": {},
   "outputs": [],
   "source": [
    "error = 0\n",
    "\n",
    "for x,y in zip(x_data, y_label):\n",
    "    \n",
    "    y_pred = m*x + b\n",
    "    \n",
    "    error += (y-y_pred)**2"
   ]
  },
  {
   "cell_type": "markdown",
   "metadata": {},
   "source": [
    "### Optimizer"
   ]
  },
  {
   "cell_type": "code",
   "execution_count": 31,
   "metadata": {},
   "outputs": [],
   "source": [
    "optimizer = tf.train.GradientDescentOptimizer(learning_rate = 0.001)\n",
    "train = optimizer.minimize(error)"
   ]